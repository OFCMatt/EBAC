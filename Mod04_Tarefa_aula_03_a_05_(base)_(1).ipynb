{
  "cells": [
    {
      "cell_type": "markdown",
      "metadata": {
        "id": "view-in-github",
        "colab_type": "text"
      },
      "source": [
        "<a href=\"https://colab.research.google.com/github/OFCMatt/EBAC/blob/main/Mod04_Tarefa_aula_03_a_05_(base)_(1).ipynb\" target=\"_parent\"><img src=\"https://colab.research.google.com/assets/colab-badge.svg\" alt=\"Open In Colab\"/></a>"
      ]
    },
    {
      "cell_type": "markdown",
      "metadata": {
        "id": "njUvbhQmC8-t"
      },
      "source": [
        "## Exercício 1: Vestibular\n",
        "\n",
        "Considere que a os dados gerados na célula abaixo contêm o número de acertos de 100 alunos em um vestibular para um curso de exatas, divididas pelos respectivos assuntos. Considere que cada assunto possui um número de questões conforme a tabela abaixo:\n",
        "\n",
        "| assunto | número de questões |\n",
        "|:---:|:---:|\n",
        "| Matemática | 24 |\n",
        "| Português | 18 |\n",
        "| Geografia | 8 |\n",
        "| Inglês | 8 |\n",
        "| História | 8 |\n",
        "| Física | 12 |\n",
        "| Química | 12 |\n",
        "\n",
        "Usando os comandos de operações com DataFrames que você aprendeu na Aula 03, calcule:\n",
        "\n",
        "1. (operações com escalar) Calcule o percentual de acerto dos alunos por assunto.  \n",
        "2. (operações entre *DataFrames) Calcule o total de acertos de cada aluno.  \n",
        "3. Calcule o porcentual geral de cada aluno.  \n",
        "4. Suponha que a nota de corte para a segunda fase seja 45. Quantos alunos tiveram nota maior que 45?  "
      ]
    },
    {
      "cell_type": "code",
      "execution_count": 125,
      "metadata": {
        "id": "Ll6TadxCC8-y"
      },
      "outputs": [],
      "source": [
        "import pandas as pd\n",
        "import numpy as np\n",
        "\n",
        "np.random.seed(42)\n",
        "df_mat = pd.DataFrame(np.random.randint(24, size=(100, 1)), columns=['Qt_acertos'])\n",
        "\n",
        "df_por = pd.DataFrame(np.random.randint(18, size=(100, 1)), columns=['Qt_acertos'])\n",
        "\n",
        "df_geo = pd.DataFrame(np.random.randint(8, size=(100, 1)), columns=['Qt_acertos'])\n",
        "\n",
        "df_ing = pd.DataFrame(np.random.randint(8, size=(100, 1)), columns=['Qt_acertos'])\n",
        "\n",
        "df_his = pd.DataFrame(np.random.randint(8, size=(100, 1)), columns=['Qt_acertos'])\n",
        "\n",
        "df_fis = pd.DataFrame(np.random.randint(12, size=(100, 1)), columns=['Qt_acertos'])\n",
        "\n",
        "df_qui = pd.DataFrame(np.random.randint(12, size=(100, 1)), columns=['Qt_acertos'])"
      ]
    },
    {
      "cell_type": "code",
      "execution_count": 126,
      "metadata": {
        "id": "JVmLXiC2C8-0"
      },
      "outputs": [],
      "source": [
        "df_mat['%_acertos'] = (df_mat['Qt_acertos'] / 24) * 100\n",
        "df_por['%_acertos'] = (df_por['Qt_acertos'] / 18) * 100\n",
        "df_geo['%_acertos'] = (df_geo['Qt_acertos'] / 8) * 100\n",
        "df_ing['%_acertos'] = (df_ing['Qt_acertos'] / 8) * 100\n",
        "df_his['%_acertos'] = (df_his['Qt_acertos'] / 8) * 100\n",
        "df_fis['%_acertos'] = (df_fis['Qt_acertos'] / 12) * 100\n",
        "df_qui['%_acertos'] = (df_qui['Qt_acertos'] / 12) * 100\n"
      ]
    },
    {
      "cell_type": "code",
      "execution_count": 127,
      "metadata": {
        "id": "JbTwCyNHC8-1"
      },
      "outputs": [],
      "source": [
        "df_total = df_mat['Qt_acertos'] + df_por['Qt_acertos'] + df_geo['Qt_acertos'] + \\\n",
        "           df_ing['Qt_acertos'] + df_his['Qt_acertos'] + df_fis['Qt_acertos'] + df_qui['Qt_acertos']\n"
      ]
    },
    {
      "cell_type": "code",
      "execution_count": 128,
      "metadata": {
        "id": "c2L8dJkVC8-3"
      },
      "outputs": [],
      "source": [
        "24 + 18 + 8 + 8 + 8 + 12 + 12 # = 90 questões\n",
        "df_percentual_geral = (df_total / 90) * 100\n"
      ]
    },
    {
      "cell_type": "code",
      "execution_count": 129,
      "metadata": {
        "id": "PZTZ7DFzC8-3",
        "colab": {
          "base_uri": "https://localhost:8080/"
        },
        "outputId": "69658c31-fe2a-43ef-98be-0b0c35b4859e"
      },
      "outputs": [
        {
          "output_type": "stream",
          "name": "stdout",
          "text": [
            "Alunos com mais de 45 acertos: 31\n"
          ]
        }
      ],
      "source": [
        "alunos_aprovados = df_total[df_total > 45]\n",
        "quantidade_aprovados = alunos_aprovados.count()\n",
        "print(f'Alunos com mais de 45 acertos: {quantidade_aprovados}')\n"
      ]
    },
    {
      "cell_type": "markdown",
      "metadata": {
        "id": "Hlfl75XXC8-4"
      },
      "source": [
        "## 2) Vestibular II\n",
        "\n",
        "Ainda sobre o mesmo banco de dados:\n",
        "\n",
        "1. Neste vestibular, quem 'zera' em matemática, física ou química está desqualificado. Monte um novo *DataFrame* com os alunos desqualificados por este critério.\n",
        "2. Quantos são esses alunos?\n",
        "3. Qual a média desses alunos em história e geografia?\n",
        "4. Monte um *DataFrame* com os alunos que passaram para a segunda fase. Repare que estes alunos não podem ter sido desqualificados."
      ]
    },
    {
      "cell_type": "code",
      "execution_count": 130,
      "metadata": {
        "id": "hPaMGXvJC8-4"
      },
      "outputs": [],
      "source": [
        "# Verificando quais alunos zeraram em matemática, física ou química\n",
        "desqualificados = (df_mat['Qt_acertos'] == 0) | (df_fis['Qt_acertos'] == 0) | (df_qui['Qt_acertos'] == 0)\n",
        "\n",
        "# Criando o DataFrame dos desqualificados\n",
        "df_desqualificados = pd.DataFrame({\n",
        "    'Matemática': df_mat['Qt_acertos'],\n",
        "    'Física': df_fis['Qt_acertos'],\n",
        "    'Química': df_qui['Qt_acertos'],\n",
        "    'História': df_his['Qt_acertos'],\n",
        "    'Geografia': df_geo['Qt_acertos']\n",
        "})[desqualificados]\n"
      ]
    },
    {
      "cell_type": "code",
      "source": [
        "qtd_desqualificados = df_desqualificados.shape[0]\n",
        "print(f\"Alunos desqualificados: {qtd_desqualificados}\")\n"
      ],
      "metadata": {
        "colab": {
          "base_uri": "https://localhost:8080/"
        },
        "id": "c0d7PVM-EL3e",
        "outputId": "29c71a0a-9b7d-48fc-cd21-94273c8abce6"
      },
      "execution_count": 131,
      "outputs": [
        {
          "output_type": "stream",
          "name": "stdout",
          "text": [
            "Alunos desqualificados: 23\n"
          ]
        }
      ]
    },
    {
      "cell_type": "code",
      "source": [
        "media_hist_geo = df_desqualificados[['História', 'Geografia']].mean()\n",
        "print(\"Média em História e Geografia dos desqualificados:\")\n",
        "print(media_hist_geo)\n"
      ],
      "metadata": {
        "colab": {
          "base_uri": "https://localhost:8080/"
        },
        "id": "KDX8em0YENpl",
        "outputId": "94ba2546-e38c-41fd-bd07-c20902a64c1b"
      },
      "execution_count": 132,
      "outputs": [
        {
          "output_type": "stream",
          "name": "stdout",
          "text": [
            "Média em História e Geografia dos desqualificados:\n",
            "História     3.434783\n",
            "Geografia    3.217391\n",
            "dtype: float64\n"
          ]
        }
      ]
    },
    {
      "cell_type": "code",
      "source": [
        "# Total de acertos (como já calculamos antes)\n",
        "df_total = df_mat['Qt_acertos'] + df_por['Qt_acertos'] + df_geo['Qt_acertos'] + \\\n",
        "           df_ing['Qt_acertos'] + df_his['Qt_acertos'] + df_fis['Qt_acertos'] + df_qui['Qt_acertos']\n",
        "\n",
        "# Criando máscara de qual passou\n",
        "aprovados = (df_total > 45) & (~desqualificados)\n",
        "\n",
        "# DataFrame com alunos aprovados\n",
        "df_aprovados = pd.DataFrame({\n",
        "    'Total_acertos': df_total,\n",
        "    'Percentual_geral': (df_total / 90) * 100\n",
        "})[aprovados]\n"
      ],
      "metadata": {
        "id": "2PGGYbjwEQSt"
      },
      "execution_count": 133,
      "outputs": []
    },
    {
      "cell_type": "markdown",
      "metadata": {
        "id": "EGBUWpAHC8-5"
      },
      "source": [
        "## 3) Vacinações no Acre\n",
        "Vamos trabalhar agora com a base de vacinações no Acre. Para facilitar a sua vida, copiamos o link do arquivo na célula abaixo.\n",
        "\n",
        "1. Quantas vacinas estão registradas nessa base?  \n",
        "2. Quantos pacientes foram vacinados? (considere um paciente para cada valor único de ```paciente_id```)  \n",
        "3. Quantos pacientes únicos tomaram a primeira dose? OBS: Há um caractere especial neste campo. Receba os valores do campo com o método ```.unique()```.   \n",
        "4. Quantos pacientes com menos de 18 anos foram vacinados?  \n",
        "5. Quantos estabelecimentos aplicaram vacina no Acre?\n",
        "\n",
        "\n",
        "**OBS:** O portal do DATASUS pode apresentar instabilidades, retornando um erro na segunda célula abaixo. Por este motivo está disponível uma base estática, que se for baixada para o seu *working directory* pode ser lida com este comando: ```df = pd.read_csv('registros de vacinacao covid ACRE.csv', sep=';')```.\n",
        "\n",
        "**OBS2:** Para saber qual é o seu working directory, rode no jupyter: ```!pwd```."
      ]
    },
    {
      "cell_type": "code",
      "source": [
        "# Verifique se o arquivo está na pasta correta\n",
        "!pwd  # Para mostrar o diretório de trabalho atual\n",
        "\n",
        "# Tente carregar o arquivo novamente\n",
        "import pandas as pd\n",
        "df = pd.read_csv('/content/registros de vacinacao covid ACRE.csv', sep=';')\n",
        "print(\"Vacinas registradas:\", df.shape[0])\n"
      ],
      "metadata": {
        "colab": {
          "base_uri": "https://localhost:8080/"
        },
        "id": "0h8mXh5gFJ_s",
        "outputId": "8c1494dc-1254-428d-a60c-d0b8f1938e7d"
      },
      "execution_count": 134,
      "outputs": [
        {
          "output_type": "stream",
          "name": "stdout",
          "text": [
            "/content\n",
            "Vacinas registradas: 169071\n"
          ]
        }
      ]
    },
    {
      "cell_type": "code",
      "source": [
        "from google.colab import drive\n",
        "drive.mount('/content/drive')"
      ],
      "metadata": {
        "id": "Mkj2LeocGAp2",
        "colab": {
          "base_uri": "https://localhost:8080/"
        },
        "outputId": "52cc7c42-762e-4bb8-f80c-d47601c23450"
      },
      "execution_count": 113,
      "outputs": [
        {
          "output_type": "stream",
          "name": "stdout",
          "text": [
            "Drive already mounted at /content/drive; to attempt to forcibly remount, call drive.mount(\"/content/drive\", force_remount=True).\n"
          ]
        }
      ]
    },
    {
      "cell_type": "code",
      "execution_count": 114,
      "metadata": {
        "id": "ET4r139hC8-5"
      },
      "outputs": [],
      "source": [
        "arquivo = 'https://s3.sa-east-1.amazonaws.com/ckan.saude.gov.br/SIPNI/COVID/uf/uf%3DAC/part-00000-5ed92752-6121-474f-ab37-816918134afc.c000.csv'"
      ]
    },
    {
      "cell_type": "code",
      "execution_count": 115,
      "metadata": {
        "id": "SC9YMWLSC8-6",
        "colab": {
          "base_uri": "https://localhost:8080/"
        },
        "outputId": "c444092a-b1c0-4629-f689-f2e4cd41e286"
      },
      "outputs": [
        {
          "output_type": "stream",
          "name": "stdout",
          "text": [
            "Vacinas registradas: 169071\n"
          ]
        }
      ],
      "source": [
        "print(\"Vacinas registradas:\", df.shape[0])\n",
        "\n"
      ]
    },
    {
      "cell_type": "code",
      "execution_count": 116,
      "metadata": {
        "id": "PMztY1RlC8-7",
        "colab": {
          "base_uri": "https://localhost:8080/"
        },
        "outputId": "ecbada06-039d-4e78-a432-48de0c9a4f87"
      },
      "outputs": [
        {
          "output_type": "stream",
          "name": "stdout",
          "text": [
            "Pacientes vacinados: 120517\n"
          ]
        }
      ],
      "source": [
        "pacientes_unicos = df['paciente_id'].nunique()\n",
        "print(\"Pacientes vacinados:\", pacientes_unicos)\n"
      ]
    },
    {
      "cell_type": "code",
      "execution_count": 117,
      "metadata": {
        "id": "V_wr--3JC8-7",
        "colab": {
          "base_uri": "https://localhost:8080/"
        },
        "outputId": "c56b08b2-a3bc-4bb9-f2a3-84ef9beb439d"
      },
      "outputs": [
        {
          "output_type": "stream",
          "name": "stdout",
          "text": [
            "['\\xa0\\xa0\\xa0\\xa01ª\\xa0Dose' '\\xa0\\xa0\\xa0\\xa02ª\\xa0Dose'\n",
            " '\\xa0\\xa0\\xa0\\xa0Dose\\xa0']\n",
            "Pacientes que tomaram 1ª dose: 119713\n"
          ]
        }
      ],
      "source": [
        "print(df['vacina_descricao_dose'].unique())\n",
        "primeira_dose = df[df['vacina_descricao_dose'].str.contains('1', na=False)]\n",
        "pacientes_primeira_dose = primeira_dose['paciente_id'].nunique()\n",
        "print(\"Pacientes que tomaram 1ª dose:\", pacientes_primeira_dose)\n"
      ]
    },
    {
      "cell_type": "code",
      "execution_count": 118,
      "metadata": {
        "id": "SPHgIxtcC8-7",
        "colab": {
          "base_uri": "https://localhost:8080/"
        },
        "outputId": "39b5549a-47aa-4572-cad6-be5bd6d24f56"
      },
      "outputs": [
        {
          "output_type": "stream",
          "name": "stdout",
          "text": [
            "Pacientes menores de 18 vacinados: 47\n"
          ]
        }
      ],
      "source": [
        "menores_18 = df[df['paciente_idade'] < 18]\n",
        "print(\"Pacientes menores de 18 vacinados:\", menores_18['paciente_id'].nunique())\n"
      ]
    },
    {
      "cell_type": "code",
      "execution_count": 119,
      "metadata": {
        "id": "S6ab9ExEC8-7",
        "colab": {
          "base_uri": "https://localhost:8080/"
        },
        "outputId": "e1113009-4492-41ea-b5e5-17e25d567ca5"
      },
      "outputs": [
        {
          "output_type": "stream",
          "name": "stdout",
          "text": [
            "Estabelecimentos únicos: 103\n"
          ]
        }
      ],
      "source": [
        "# Supondo que o nome da coluna seja outro, substitua 'estabelecimento_codigo_cnes' pelo nome correto\n",
        "print(\"Estabelecimentos únicos:\", df['estalecimento_nofantasia'].nunique())\n"
      ]
    },
    {
      "cell_type": "code",
      "execution_count": 120,
      "metadata": {
        "id": "PVrY_-qlC8-8",
        "colab": {
          "base_uri": "https://localhost:8080/"
        },
        "outputId": "1f8ec819-5cef-4a61-a35e-db14bd45e3da"
      },
      "outputs": [
        {
          "output_type": "stream",
          "name": "stdout",
          "text": [
            "Estabelecimentos: 42\n"
          ]
        }
      ],
      "source": [
        "# Contando os estabelecimentos únicos\n",
        "print(\"Estabelecimentos:\", df['estabelecimento_razaosocial'].nunique())\n"
      ]
    },
    {
      "cell_type": "markdown",
      "metadata": {
        "id": "LH1LSYvGC8-8"
      },
      "source": [
        "## 4) Vacinação II\n",
        "Gere um *DataFrame* que contenha somente os estabelecimentos que aplicaram vcinas a menores de 18 anos. Nesse *DataFrame* devem conter somente os dados dos estabelecimentos, mais uma coluna sendo a quantidade de vacinas que o estabelecimento aplicou a menores de 18 anos.  \n",
        "  \n",
        "1. crie uma cópia do *DataFrame* original, contendo somente os registros de vacinas realizadas a menores de 18 anos.  \n",
        "2. crie uma lista das colunas desse *DataFrame* com o atributo de *DataFrame* **.columns()**  \n",
        "3. Nesse *DataFrame* faça uma contagem do campo ```vacina_categoria_nome```.\n",
        "3. a partir da lista de colunas, escolha somente aquelas que são referentes ao estabelecimento, faça uma lista com esses valores.  \n",
        "4. usando o método *.loc*, selecione somente essas variáveis  \n",
        "5. Aplique o método **.drop_duplicates** e crie uma lista com uma linha para cada estabelecimento, com os dados do estabelecimento  "
      ]
    },
    {
      "cell_type": "code",
      "source": [
        "# Filtrando as vacinas para menores de 18 anos\n",
        "menores_18_vacinados = df[df['paciente_idade'] < 18]\n",
        "\n",
        "# Agrupando por estabelecimento e contando o número de vacinas aplicadas\n",
        "estabelecimentos_menores_18 = menores_18_vacinados.groupby('estabelecimento_razaosocial').size().reset_index(name='Quantidade_de_vacinas')\n",
        "\n",
        "# Verificando as primeiras linhas\n",
        "print(estabelecimentos_menores_18.head())\n"
      ],
      "metadata": {
        "colab": {
          "base_uri": "https://localhost:8080/"
        },
        "id": "Qs2vG64OHchi",
        "outputId": "ecd4a60e-1e92-423c-f31a-667df1a36d7d"
      },
      "execution_count": 121,
      "outputs": [
        {
          "output_type": "stream",
          "name": "stdout",
          "text": [
            "                         estabelecimento_razaosocial  Quantidade_de_vacinas\n",
            "0  DISTRITO SANITARIO ESPECIAL DE SAUDE INDIGENA ...                      2\n",
            "1    DISTRITO SANITARIO ESPECIAL INDIGENA ALTO JURUA                      4\n",
            "2  DISTRITO SANITARIO ESPECIAL INDIGENA ALTO RIO ...                     21\n",
            "3                                MINISTERIO DA SAUDE                      1\n",
            "4               PREFEITURA MUNICIPAL DE ASSIS BRASIL                      3\n"
          ]
        }
      ]
    },
    {
      "cell_type": "code",
      "execution_count": 122,
      "metadata": {
        "id": "3ojs12vUC8-8",
        "colab": {
          "base_uri": "https://localhost:8080/"
        },
        "outputId": "7b9a194c-5f1f-46a6-8e16-e37e593ca172"
      },
      "outputs": [
        {
          "output_type": "stream",
          "name": "stdout",
          "text": [
            "                         estabelecimento_razaosocial  Quantidade_de_vacinas\n",
            "0  DISTRITO SANITARIO ESPECIAL DE SAUDE INDIGENA ...                      2\n",
            "1    DISTRITO SANITARIO ESPECIAL INDIGENA ALTO JURUA                      4\n",
            "2  DISTRITO SANITARIO ESPECIAL INDIGENA ALTO RIO ...                     21\n",
            "3                                MINISTERIO DA SAUDE                      1\n",
            "4               PREFEITURA MUNICIPAL DE ASSIS BRASIL                      3\n"
          ]
        }
      ],
      "source": [
        "# Agrupando por estabelecimento e contando o número de vacinas aplicadas\n",
        "estabelecimentos_menores_18 = menores_18_vacinados.groupby('estabelecimento_razaosocial').size().reset_index(name='Quantidade_de_vacinas')\n",
        "\n",
        "# Verificando as primeiras linhas\n",
        "print(estabelecimentos_menores_18.head())\n"
      ]
    },
    {
      "cell_type": "code",
      "source": [
        "# Verificando todas as colunas do DataFrame\n",
        "print(df.columns)\n"
      ],
      "metadata": {
        "colab": {
          "base_uri": "https://localhost:8080/"
        },
        "id": "q468kp8dIXZ-",
        "outputId": "515ad76b-5823-4392-b88b-95bfbb9392cd"
      },
      "execution_count": 123,
      "outputs": [
        {
          "output_type": "stream",
          "name": "stdout",
          "text": [
            "Index(['document_id', 'paciente_id', 'paciente_idade',\n",
            "       'paciente_datanascimento', 'paciente_enumsexobiologico',\n",
            "       'paciente_racacor_codigo', 'paciente_racacor_valor',\n",
            "       'paciente_endereco_coibgemunicipio', 'paciente_endereco_copais',\n",
            "       'paciente_endereco_nmmunicipio', 'paciente_endereco_nmpais',\n",
            "       'paciente_endereco_uf', 'paciente_endereco_cep',\n",
            "       'paciente_nacionalidade_enumnacionalidade', 'estabelecimento_valor',\n",
            "       'estabelecimento_razaosocial', 'estalecimento_nofantasia',\n",
            "       'estabelecimento_municipio_codigo', 'estabelecimento_municipio_nome',\n",
            "       'estabelecimento_uf', 'vacina_grupoatendimento_codigo',\n",
            "       'vacina_grupoatendimento_nome', 'vacina_categoria_codigo',\n",
            "       'vacina_categoria_nome', 'vacina_lote', 'vacina_fabricante_nome',\n",
            "       'vacina_fabricante_referencia', 'vacina_dataaplicacao',\n",
            "       'vacina_descricao_dose', 'vacina_codigo', 'vacina_nome',\n",
            "       'sistema_origem', 'data_importacao_rnds', 'id_sistema_origem'],\n",
            "      dtype='object')\n"
          ]
        }
      ]
    },
    {
      "cell_type": "code",
      "execution_count": 124,
      "metadata": {
        "id": "sLyevPRBC8-8",
        "colab": {
          "base_uri": "https://localhost:8080/",
          "height": 585
        },
        "outputId": "2997aa22-5f2d-4e4e-936f-7354d7545ae3"
      },
      "outputs": [
        {
          "output_type": "execute_result",
          "data": {
            "text/plain": [
              "                                     document_id  \\\n",
              "1567   fdca313f-b348-422d-94d4-f2c66a87868c-i0b0   \n",
              "6250   b7431955-1faa-4c1e-9246-7c1e7b8bb3cb-i0b0   \n",
              "9569   fdb8d3b6-14d9-4bcc-9cfe-acd46b4a317a-i0b0   \n",
              "11338  647e2301-3ba4-463a-8d1e-2b6f38a4d99e-i0b0   \n",
              "15144  7f469e03-bece-49d0-bebc-33ad98e27f54-i0b0   \n",
              "\n",
              "                                             paciente_id  paciente_idade  \\\n",
              "1567   f5e6b8c44f7c4d13a87c582def5e8d460435b02f26af8c...              17   \n",
              "6250   e1a45c07e3c393d5f0eccf4204a7ceab338f4f06696ecb...              16   \n",
              "9569   7cf3b238383a70eeb26841c01817737c9706d5b231e8c2...              17   \n",
              "11338  53eb7fed5faa26ad17ce21ee378f28e25399ab7e90bc05...              17   \n",
              "15144  dbaa6420d8a815158387668d0a59a19cf2bb63958e35d1...              16   \n",
              "\n",
              "      paciente_datanascimento paciente_enumsexobiologico  \\\n",
              "1567               2003-07-18                          F   \n",
              "6250               2004-05-18                          M   \n",
              "9569               2004-01-23                          F   \n",
              "11338              2003-05-04                          F   \n",
              "15144              2004-08-22                          F   \n",
              "\n",
              "       paciente_racacor_codigo paciente_racacor_valor  \\\n",
              "1567                         4                AMARELA   \n",
              "6250                         3                  PARDA   \n",
              "9569                        99         SEM INFORMACAO   \n",
              "11338                        4                AMARELA   \n",
              "15144                        5               INDIGENA   \n",
              "\n",
              "       paciente_endereco_coibgemunicipio  paciente_endereco_copais  \\\n",
              "1567                            120025.0                      10.0   \n",
              "6250                            120040.0                      10.0   \n",
              "9569                            120020.0                      10.0   \n",
              "11338                           120030.0                      10.0   \n",
              "15144                           120035.0                      10.0   \n",
              "\n",
              "      paciente_endereco_nmmunicipio  ... vacina_lote vacina_fabricante_nome  \\\n",
              "1567                 EPITACIOLANDIA  ...  213VCD003W  FUNDACAO OSWALDO CRUZ   \n",
              "6250                     RIO BRANCO  ...      200278      FUNDACAO BUTANTAN   \n",
              "9569                CRUZEIRO DO SUL  ...  213VCD042Z  FUNDACAO OSWALDO CRUZ   \n",
              "11338                         FEIJO  ...    4120Z004  FUNDACAO OSWALDO CRUZ   \n",
              "15144          MARECHAL THAUMATURGO  ...   202010028      FUNDACAO BUTANTAN   \n",
              "\n",
              "       vacina_fabricante_referencia vacina_dataaplicacao  \\\n",
              "1567    Organization/33781055000135           2021-05-12   \n",
              "6250    Organization/61189445000156           2021-01-29   \n",
              "9569    Organization/33781055000135           2021-05-15   \n",
              "11338   Organization/33781055000135           2021-02-09   \n",
              "15144   Organization/61189445000156           2021-01-28   \n",
              "\n",
              "       vacina_descricao_dose vacina_codigo  \\\n",
              "1567                 1ª Dose            85   \n",
              "6250                 1ª Dose            86   \n",
              "9569                 1ª Dose            85   \n",
              "11338                1ª Dose            85   \n",
              "15144                1ª Dose            86   \n",
              "\n",
              "                               vacina_nome  sistema_origem  \\\n",
              "1567          Vacina Covid-19 - Covishield        Novo PNI   \n",
              "6250   Covid-19-Coronavac-Sinovac/Butantan        Novo PNI   \n",
              "9569          Vacina Covid-19 - Covishield        Novo PNI   \n",
              "11338         Vacina Covid-19 - Covishield        Novo PNI   \n",
              "15144  Covid-19-Coronavac-Sinovac/Butantan        Novo PNI   \n",
              "\n",
              "           data_importacao_rnds id_sistema_origem  \n",
              "1567   2021-05-13T16:16:42.000Z               NaN  \n",
              "6250   2021-02-06T14:02:07.000Z               NaN  \n",
              "9569   2021-05-18T03:17:02.000Z               NaN  \n",
              "11338  2021-02-09T22:08:13.000Z               NaN  \n",
              "15144  2021-02-09T19:26:03.000Z               NaN  \n",
              "\n",
              "[5 rows x 34 columns]"
            ],
            "text/html": [
              "\n",
              "  <div id=\"df-835f525a-49e8-4ee8-989f-e14a6f03b6ab\" class=\"colab-df-container\">\n",
              "    <div>\n",
              "<style scoped>\n",
              "    .dataframe tbody tr th:only-of-type {\n",
              "        vertical-align: middle;\n",
              "    }\n",
              "\n",
              "    .dataframe tbody tr th {\n",
              "        vertical-align: top;\n",
              "    }\n",
              "\n",
              "    .dataframe thead th {\n",
              "        text-align: right;\n",
              "    }\n",
              "</style>\n",
              "<table border=\"1\" class=\"dataframe\">\n",
              "  <thead>\n",
              "    <tr style=\"text-align: right;\">\n",
              "      <th></th>\n",
              "      <th>document_id</th>\n",
              "      <th>paciente_id</th>\n",
              "      <th>paciente_idade</th>\n",
              "      <th>paciente_datanascimento</th>\n",
              "      <th>paciente_enumsexobiologico</th>\n",
              "      <th>paciente_racacor_codigo</th>\n",
              "      <th>paciente_racacor_valor</th>\n",
              "      <th>paciente_endereco_coibgemunicipio</th>\n",
              "      <th>paciente_endereco_copais</th>\n",
              "      <th>paciente_endereco_nmmunicipio</th>\n",
              "      <th>...</th>\n",
              "      <th>vacina_lote</th>\n",
              "      <th>vacina_fabricante_nome</th>\n",
              "      <th>vacina_fabricante_referencia</th>\n",
              "      <th>vacina_dataaplicacao</th>\n",
              "      <th>vacina_descricao_dose</th>\n",
              "      <th>vacina_codigo</th>\n",
              "      <th>vacina_nome</th>\n",
              "      <th>sistema_origem</th>\n",
              "      <th>data_importacao_rnds</th>\n",
              "      <th>id_sistema_origem</th>\n",
              "    </tr>\n",
              "  </thead>\n",
              "  <tbody>\n",
              "    <tr>\n",
              "      <th>1567</th>\n",
              "      <td>fdca313f-b348-422d-94d4-f2c66a87868c-i0b0</td>\n",
              "      <td>f5e6b8c44f7c4d13a87c582def5e8d460435b02f26af8c...</td>\n",
              "      <td>17</td>\n",
              "      <td>2003-07-18</td>\n",
              "      <td>F</td>\n",
              "      <td>4</td>\n",
              "      <td>AMARELA</td>\n",
              "      <td>120025.0</td>\n",
              "      <td>10.0</td>\n",
              "      <td>EPITACIOLANDIA</td>\n",
              "      <td>...</td>\n",
              "      <td>213VCD003W</td>\n",
              "      <td>FUNDACAO OSWALDO CRUZ</td>\n",
              "      <td>Organization/33781055000135</td>\n",
              "      <td>2021-05-12</td>\n",
              "      <td>1ª Dose</td>\n",
              "      <td>85</td>\n",
              "      <td>Vacina Covid-19 - Covishield</td>\n",
              "      <td>Novo PNI</td>\n",
              "      <td>2021-05-13T16:16:42.000Z</td>\n",
              "      <td>NaN</td>\n",
              "    </tr>\n",
              "    <tr>\n",
              "      <th>6250</th>\n",
              "      <td>b7431955-1faa-4c1e-9246-7c1e7b8bb3cb-i0b0</td>\n",
              "      <td>e1a45c07e3c393d5f0eccf4204a7ceab338f4f06696ecb...</td>\n",
              "      <td>16</td>\n",
              "      <td>2004-05-18</td>\n",
              "      <td>M</td>\n",
              "      <td>3</td>\n",
              "      <td>PARDA</td>\n",
              "      <td>120040.0</td>\n",
              "      <td>10.0</td>\n",
              "      <td>RIO BRANCO</td>\n",
              "      <td>...</td>\n",
              "      <td>200278</td>\n",
              "      <td>FUNDACAO BUTANTAN</td>\n",
              "      <td>Organization/61189445000156</td>\n",
              "      <td>2021-01-29</td>\n",
              "      <td>1ª Dose</td>\n",
              "      <td>86</td>\n",
              "      <td>Covid-19-Coronavac-Sinovac/Butantan</td>\n",
              "      <td>Novo PNI</td>\n",
              "      <td>2021-02-06T14:02:07.000Z</td>\n",
              "      <td>NaN</td>\n",
              "    </tr>\n",
              "    <tr>\n",
              "      <th>9569</th>\n",
              "      <td>fdb8d3b6-14d9-4bcc-9cfe-acd46b4a317a-i0b0</td>\n",
              "      <td>7cf3b238383a70eeb26841c01817737c9706d5b231e8c2...</td>\n",
              "      <td>17</td>\n",
              "      <td>2004-01-23</td>\n",
              "      <td>F</td>\n",
              "      <td>99</td>\n",
              "      <td>SEM INFORMACAO</td>\n",
              "      <td>120020.0</td>\n",
              "      <td>10.0</td>\n",
              "      <td>CRUZEIRO DO SUL</td>\n",
              "      <td>...</td>\n",
              "      <td>213VCD042Z</td>\n",
              "      <td>FUNDACAO OSWALDO CRUZ</td>\n",
              "      <td>Organization/33781055000135</td>\n",
              "      <td>2021-05-15</td>\n",
              "      <td>1ª Dose</td>\n",
              "      <td>85</td>\n",
              "      <td>Vacina Covid-19 - Covishield</td>\n",
              "      <td>Novo PNI</td>\n",
              "      <td>2021-05-18T03:17:02.000Z</td>\n",
              "      <td>NaN</td>\n",
              "    </tr>\n",
              "    <tr>\n",
              "      <th>11338</th>\n",
              "      <td>647e2301-3ba4-463a-8d1e-2b6f38a4d99e-i0b0</td>\n",
              "      <td>53eb7fed5faa26ad17ce21ee378f28e25399ab7e90bc05...</td>\n",
              "      <td>17</td>\n",
              "      <td>2003-05-04</td>\n",
              "      <td>F</td>\n",
              "      <td>4</td>\n",
              "      <td>AMARELA</td>\n",
              "      <td>120030.0</td>\n",
              "      <td>10.0</td>\n",
              "      <td>FEIJO</td>\n",
              "      <td>...</td>\n",
              "      <td>4120Z004</td>\n",
              "      <td>FUNDACAO OSWALDO CRUZ</td>\n",
              "      <td>Organization/33781055000135</td>\n",
              "      <td>2021-02-09</td>\n",
              "      <td>1ª Dose</td>\n",
              "      <td>85</td>\n",
              "      <td>Vacina Covid-19 - Covishield</td>\n",
              "      <td>Novo PNI</td>\n",
              "      <td>2021-02-09T22:08:13.000Z</td>\n",
              "      <td>NaN</td>\n",
              "    </tr>\n",
              "    <tr>\n",
              "      <th>15144</th>\n",
              "      <td>7f469e03-bece-49d0-bebc-33ad98e27f54-i0b0</td>\n",
              "      <td>dbaa6420d8a815158387668d0a59a19cf2bb63958e35d1...</td>\n",
              "      <td>16</td>\n",
              "      <td>2004-08-22</td>\n",
              "      <td>F</td>\n",
              "      <td>5</td>\n",
              "      <td>INDIGENA</td>\n",
              "      <td>120035.0</td>\n",
              "      <td>10.0</td>\n",
              "      <td>MARECHAL THAUMATURGO</td>\n",
              "      <td>...</td>\n",
              "      <td>202010028</td>\n",
              "      <td>FUNDACAO BUTANTAN</td>\n",
              "      <td>Organization/61189445000156</td>\n",
              "      <td>2021-01-28</td>\n",
              "      <td>1ª Dose</td>\n",
              "      <td>86</td>\n",
              "      <td>Covid-19-Coronavac-Sinovac/Butantan</td>\n",
              "      <td>Novo PNI</td>\n",
              "      <td>2021-02-09T19:26:03.000Z</td>\n",
              "      <td>NaN</td>\n",
              "    </tr>\n",
              "  </tbody>\n",
              "</table>\n",
              "<p>5 rows × 34 columns</p>\n",
              "</div>\n",
              "    <div class=\"colab-df-buttons\">\n",
              "\n",
              "  <div class=\"colab-df-container\">\n",
              "    <button class=\"colab-df-convert\" onclick=\"convertToInteractive('df-835f525a-49e8-4ee8-989f-e14a6f03b6ab')\"\n",
              "            title=\"Convert this dataframe to an interactive table.\"\n",
              "            style=\"display:none;\">\n",
              "\n",
              "  <svg xmlns=\"http://www.w3.org/2000/svg\" height=\"24px\" viewBox=\"0 -960 960 960\">\n",
              "    <path d=\"M120-120v-720h720v720H120Zm60-500h600v-160H180v160Zm220 220h160v-160H400v160Zm0 220h160v-160H400v160ZM180-400h160v-160H180v160Zm440 0h160v-160H620v160ZM180-180h160v-160H180v160Zm440 0h160v-160H620v160Z\"/>\n",
              "  </svg>\n",
              "    </button>\n",
              "\n",
              "  <style>\n",
              "    .colab-df-container {\n",
              "      display:flex;\n",
              "      gap: 12px;\n",
              "    }\n",
              "\n",
              "    .colab-df-convert {\n",
              "      background-color: #E8F0FE;\n",
              "      border: none;\n",
              "      border-radius: 50%;\n",
              "      cursor: pointer;\n",
              "      display: none;\n",
              "      fill: #1967D2;\n",
              "      height: 32px;\n",
              "      padding: 0 0 0 0;\n",
              "      width: 32px;\n",
              "    }\n",
              "\n",
              "    .colab-df-convert:hover {\n",
              "      background-color: #E2EBFA;\n",
              "      box-shadow: 0px 1px 2px rgba(60, 64, 67, 0.3), 0px 1px 3px 1px rgba(60, 64, 67, 0.15);\n",
              "      fill: #174EA6;\n",
              "    }\n",
              "\n",
              "    .colab-df-buttons div {\n",
              "      margin-bottom: 4px;\n",
              "    }\n",
              "\n",
              "    [theme=dark] .colab-df-convert {\n",
              "      background-color: #3B4455;\n",
              "      fill: #D2E3FC;\n",
              "    }\n",
              "\n",
              "    [theme=dark] .colab-df-convert:hover {\n",
              "      background-color: #434B5C;\n",
              "      box-shadow: 0px 1px 3px 1px rgba(0, 0, 0, 0.15);\n",
              "      filter: drop-shadow(0px 1px 2px rgba(0, 0, 0, 0.3));\n",
              "      fill: #FFFFFF;\n",
              "    }\n",
              "  </style>\n",
              "\n",
              "    <script>\n",
              "      const buttonEl =\n",
              "        document.querySelector('#df-835f525a-49e8-4ee8-989f-e14a6f03b6ab button.colab-df-convert');\n",
              "      buttonEl.style.display =\n",
              "        google.colab.kernel.accessAllowed ? 'block' : 'none';\n",
              "\n",
              "      async function convertToInteractive(key) {\n",
              "        const element = document.querySelector('#df-835f525a-49e8-4ee8-989f-e14a6f03b6ab');\n",
              "        const dataTable =\n",
              "          await google.colab.kernel.invokeFunction('convertToInteractive',\n",
              "                                                    [key], {});\n",
              "        if (!dataTable) return;\n",
              "\n",
              "        const docLinkHtml = 'Like what you see? Visit the ' +\n",
              "          '<a target=\"_blank\" href=https://colab.research.google.com/notebooks/data_table.ipynb>data table notebook</a>'\n",
              "          + ' to learn more about interactive tables.';\n",
              "        element.innerHTML = '';\n",
              "        dataTable['output_type'] = 'display_data';\n",
              "        await google.colab.output.renderOutput(dataTable, element);\n",
              "        const docLink = document.createElement('div');\n",
              "        docLink.innerHTML = docLinkHtml;\n",
              "        element.appendChild(docLink);\n",
              "      }\n",
              "    </script>\n",
              "  </div>\n",
              "\n",
              "\n",
              "    <div id=\"df-30c2ba8c-8404-42b8-a639-ccef24a782ba\">\n",
              "      <button class=\"colab-df-quickchart\" onclick=\"quickchart('df-30c2ba8c-8404-42b8-a639-ccef24a782ba')\"\n",
              "                title=\"Suggest charts\"\n",
              "                style=\"display:none;\">\n",
              "\n",
              "<svg xmlns=\"http://www.w3.org/2000/svg\" height=\"24px\"viewBox=\"0 0 24 24\"\n",
              "     width=\"24px\">\n",
              "    <g>\n",
              "        <path d=\"M19 3H5c-1.1 0-2 .9-2 2v14c0 1.1.9 2 2 2h14c1.1 0 2-.9 2-2V5c0-1.1-.9-2-2-2zM9 17H7v-7h2v7zm4 0h-2V7h2v10zm4 0h-2v-4h2v4z\"/>\n",
              "    </g>\n",
              "</svg>\n",
              "      </button>\n",
              "\n",
              "<style>\n",
              "  .colab-df-quickchart {\n",
              "      --bg-color: #E8F0FE;\n",
              "      --fill-color: #1967D2;\n",
              "      --hover-bg-color: #E2EBFA;\n",
              "      --hover-fill-color: #174EA6;\n",
              "      --disabled-fill-color: #AAA;\n",
              "      --disabled-bg-color: #DDD;\n",
              "  }\n",
              "\n",
              "  [theme=dark] .colab-df-quickchart {\n",
              "      --bg-color: #3B4455;\n",
              "      --fill-color: #D2E3FC;\n",
              "      --hover-bg-color: #434B5C;\n",
              "      --hover-fill-color: #FFFFFF;\n",
              "      --disabled-bg-color: #3B4455;\n",
              "      --disabled-fill-color: #666;\n",
              "  }\n",
              "\n",
              "  .colab-df-quickchart {\n",
              "    background-color: var(--bg-color);\n",
              "    border: none;\n",
              "    border-radius: 50%;\n",
              "    cursor: pointer;\n",
              "    display: none;\n",
              "    fill: var(--fill-color);\n",
              "    height: 32px;\n",
              "    padding: 0;\n",
              "    width: 32px;\n",
              "  }\n",
              "\n",
              "  .colab-df-quickchart:hover {\n",
              "    background-color: var(--hover-bg-color);\n",
              "    box-shadow: 0 1px 2px rgba(60, 64, 67, 0.3), 0 1px 3px 1px rgba(60, 64, 67, 0.15);\n",
              "    fill: var(--button-hover-fill-color);\n",
              "  }\n",
              "\n",
              "  .colab-df-quickchart-complete:disabled,\n",
              "  .colab-df-quickchart-complete:disabled:hover {\n",
              "    background-color: var(--disabled-bg-color);\n",
              "    fill: var(--disabled-fill-color);\n",
              "    box-shadow: none;\n",
              "  }\n",
              "\n",
              "  .colab-df-spinner {\n",
              "    border: 2px solid var(--fill-color);\n",
              "    border-color: transparent;\n",
              "    border-bottom-color: var(--fill-color);\n",
              "    animation:\n",
              "      spin 1s steps(1) infinite;\n",
              "  }\n",
              "\n",
              "  @keyframes spin {\n",
              "    0% {\n",
              "      border-color: transparent;\n",
              "      border-bottom-color: var(--fill-color);\n",
              "      border-left-color: var(--fill-color);\n",
              "    }\n",
              "    20% {\n",
              "      border-color: transparent;\n",
              "      border-left-color: var(--fill-color);\n",
              "      border-top-color: var(--fill-color);\n",
              "    }\n",
              "    30% {\n",
              "      border-color: transparent;\n",
              "      border-left-color: var(--fill-color);\n",
              "      border-top-color: var(--fill-color);\n",
              "      border-right-color: var(--fill-color);\n",
              "    }\n",
              "    40% {\n",
              "      border-color: transparent;\n",
              "      border-right-color: var(--fill-color);\n",
              "      border-top-color: var(--fill-color);\n",
              "    }\n",
              "    60% {\n",
              "      border-color: transparent;\n",
              "      border-right-color: var(--fill-color);\n",
              "    }\n",
              "    80% {\n",
              "      border-color: transparent;\n",
              "      border-right-color: var(--fill-color);\n",
              "      border-bottom-color: var(--fill-color);\n",
              "    }\n",
              "    90% {\n",
              "      border-color: transparent;\n",
              "      border-bottom-color: var(--fill-color);\n",
              "    }\n",
              "  }\n",
              "</style>\n",
              "\n",
              "      <script>\n",
              "        async function quickchart(key) {\n",
              "          const quickchartButtonEl =\n",
              "            document.querySelector('#' + key + ' button');\n",
              "          quickchartButtonEl.disabled = true;  // To prevent multiple clicks.\n",
              "          quickchartButtonEl.classList.add('colab-df-spinner');\n",
              "          try {\n",
              "            const charts = await google.colab.kernel.invokeFunction(\n",
              "                'suggestCharts', [key], {});\n",
              "          } catch (error) {\n",
              "            console.error('Error during call to suggestCharts:', error);\n",
              "          }\n",
              "          quickchartButtonEl.classList.remove('colab-df-spinner');\n",
              "          quickchartButtonEl.classList.add('colab-df-quickchart-complete');\n",
              "        }\n",
              "        (() => {\n",
              "          let quickchartButtonEl =\n",
              "            document.querySelector('#df-30c2ba8c-8404-42b8-a639-ccef24a782ba button');\n",
              "          quickchartButtonEl.style.display =\n",
              "            google.colab.kernel.accessAllowed ? 'block' : 'none';\n",
              "        })();\n",
              "      </script>\n",
              "    </div>\n",
              "\n",
              "    </div>\n",
              "  </div>\n"
            ],
            "application/vnd.google.colaboratory.intrinsic+json": {
              "type": "dataframe",
              "variable_name": "df_menores_18"
            }
          },
          "metadata": {},
          "execution_count": 124
        }
      ],
      "source": [
        "df_menores_18 = df[df['paciente_idade'] < 18]\n",
        "df_menores_18.head()\n"
      ]
    },
    {
      "cell_type": "code",
      "execution_count": 135,
      "metadata": {
        "id": "lZAW-Dp8C8-8",
        "colab": {
          "base_uri": "https://localhost:8080/"
        },
        "outputId": "f5d13766-920d-4c06-c19c-4be3b89c650d"
      },
      "outputs": [
        {
          "output_type": "stream",
          "name": "stdout",
          "text": [
            "Colunas do DataFrame com vacinas aplicadas a menores de 18 anos:\n",
            "Index(['document_id', 'paciente_id', 'paciente_idade',\n",
            "       'paciente_datanascimento', 'paciente_enumsexobiologico',\n",
            "       'paciente_racacor_codigo', 'paciente_racacor_valor',\n",
            "       'paciente_endereco_coibgemunicipio', 'paciente_endereco_copais',\n",
            "       'paciente_endereco_nmmunicipio', 'paciente_endereco_nmpais',\n",
            "       'paciente_endereco_uf', 'paciente_endereco_cep',\n",
            "       'paciente_nacionalidade_enumnacionalidade', 'estabelecimento_valor',\n",
            "       'estabelecimento_razaosocial', 'estalecimento_nofantasia',\n",
            "       'estabelecimento_municipio_codigo', 'estabelecimento_municipio_nome',\n",
            "       'estabelecimento_uf', 'vacina_grupoatendimento_codigo',\n",
            "       'vacina_grupoatendimento_nome', 'vacina_categoria_codigo',\n",
            "       'vacina_categoria_nome', 'vacina_lote', 'vacina_fabricante_nome',\n",
            "       'vacina_fabricante_referencia', 'vacina_dataaplicacao',\n",
            "       'vacina_descricao_dose', 'vacina_codigo', 'vacina_nome',\n",
            "       'sistema_origem', 'data_importacao_rnds', 'id_sistema_origem'],\n",
            "      dtype='object')\n"
          ]
        }
      ],
      "source": [
        "print(\"Colunas do DataFrame com vacinas aplicadas a menores de 18 anos:\")\n",
        "print(df_menores_18.columns)\n"
      ]
    },
    {
      "cell_type": "code",
      "execution_count": 136,
      "metadata": {
        "id": "xxYsxrxAC8-8",
        "colab": {
          "base_uri": "https://localhost:8080/"
        },
        "outputId": "9b49cc7d-0a66-48c7-a8b0-afd313145fb0"
      },
      "outputs": [
        {
          "output_type": "stream",
          "name": "stdout",
          "text": [
            "Contagem por categoria de vacina:\n",
            "vacina_categoria_nome\n",
            "Povos Indígenas                     33\n",
            "Povos e Comunidades Tradicionais     9\n",
            "Trabalhadores de Saúde               9\n",
            "Comorbidades                         2\n",
            "Faixa Etária                         1\n",
            "Name: count, dtype: int64\n"
          ]
        }
      ],
      "source": [
        "contagem_categoria = df_menores_18['vacina_categoria_nome'].value_counts()\n",
        "print(\"Contagem por categoria de vacina:\")\n",
        "print(contagem_categoria)\n"
      ]
    },
    {
      "cell_type": "code",
      "execution_count": 138,
      "metadata": {
        "id": "vaX2x_0rC8-8",
        "colab": {
          "base_uri": "https://localhost:8080/"
        },
        "outputId": "0ec362df-68e4-4f5a-9e2f-f2a3971de4af"
      },
      "outputs": [
        {
          "output_type": "stream",
          "name": "stdout",
          "text": [
            "                             estabelecimento_razaosocial  \\\n",
            "1567              PREFEITURA MUNICIPAL DE EPITACIOLANDIA   \n",
            "6250                  PREFEITURA MUNICIPAL DE RIO BRANCO   \n",
            "9569             PREFEITURA MUNICIPAL DE CRUZEIRO DO SUL   \n",
            "11338                      PREFEITURA MUNICIPAL DE FEIJO   \n",
            "15144  DISTRITO SANITARIO ESPECIAL INDIGENA ALTO RIO ...   \n",
            "\n",
            "      estabelecimento_municipio_nome estabelecimento_uf  \n",
            "1567                  EPITACIOLANDIA                 AC  \n",
            "6250                      RIO BRANCO                 AC  \n",
            "9569                 CRUZEIRO DO SUL                 AC  \n",
            "11338                          FEIJO                 AC  \n",
            "15144           MARECHAL THAUMATURGO                 AC  \n"
          ]
        }
      ],
      "source": [
        "# Selecionando as colunas referentes aos estabelecimentos\n",
        "colunas_estabelecimento = ['estabelecimento_razaosocial', 'estabelecimento_municipio_nome', 'estabelecimento_uf']\n",
        "\n",
        "# Selecionando essas colunas no DataFrame\n",
        "df_estabelecimentos = menores_18_vacinados[colunas_estabelecimento]\n",
        "\n",
        "# Removendo duplicatas para ter uma linha por estabelecimento\n",
        "df_estabelecimentos_unicos = df_estabelecimentos.drop_duplicates()\n",
        "\n",
        "# Verificando os resultados\n",
        "print(df_estabelecimentos_unicos.head())\n"
      ]
    }
  ],
  "metadata": {
    "kernelspec": {
      "display_name": "Python 3",
      "language": "python",
      "name": "python3"
    },
    "language_info": {
      "codemirror_mode": {
        "name": "ipython",
        "version": 3
      },
      "file_extension": ".py",
      "mimetype": "text/x-python",
      "name": "python",
      "nbconvert_exporter": "python",
      "pygments_lexer": "ipython3",
      "version": "3.8.5"
    },
    "toc": {
      "base_numbering": 1,
      "nav_menu": {},
      "number_sections": false,
      "sideBar": true,
      "skip_h1_title": true,
      "title_cell": "Índice",
      "title_sidebar": "Conteúdo",
      "toc_cell": false,
      "toc_position": {},
      "toc_section_display": true,
      "toc_window_display": false
    },
    "varInspector": {
      "cols": {
        "lenName": 16,
        "lenType": 16,
        "lenVar": 40
      },
      "kernels_config": {
        "python": {
          "delete_cmd_postfix": "",
          "delete_cmd_prefix": "del ",
          "library": "var_list.py",
          "varRefreshCmd": "print(var_dic_list())"
        },
        "r": {
          "delete_cmd_postfix": ") ",
          "delete_cmd_prefix": "rm(",
          "library": "var_list.r",
          "varRefreshCmd": "cat(var_dic_list()) "
        }
      },
      "types_to_exclude": [
        "module",
        "function",
        "builtin_function_or_method",
        "instance",
        "_Feature"
      ],
      "window_display": false
    },
    "colab": {
      "provenance": [],
      "include_colab_link": true
    }
  },
  "nbformat": 4,
  "nbformat_minor": 0
}