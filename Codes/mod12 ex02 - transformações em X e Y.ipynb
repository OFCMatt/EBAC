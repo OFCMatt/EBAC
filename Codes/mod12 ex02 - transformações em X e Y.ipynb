{
  "cells": [
    {
      "cell_type": "markdown",
      "metadata": {
        "id": "Sgyt7OsqDztJ"
      },
      "source": [
        "# Regressão 01 - tarefa 02 - transformações em X e Y"
      ]
    },
    {
      "cell_type": "markdown",
      "metadata": {
        "id": "eEVVI9IqDztM"
      },
      "source": [
        "### 1. Melhorando o ajuste no percentual de gorjetas\n",
        "\n",
        "a. Vamos partir do modelo feito na última tarefa, o que relaciona ```tip_pct``` e ```net_bill```. Carregue a base, os pacotes e reproduza este modelo aqui."
      ]
    },
    {
      "cell_type": "code",
      "execution_count": 3,
      "metadata": {
        "colab": {
          "base_uri": "https://localhost:8080/"
        },
        "id": "ufO5qUXKDztM",
        "outputId": "0ad16f11-3768-4afe-d0eb-5018bfa685fe"
      },
      "outputs": [
        {
          "output_type": "stream",
          "name": "stdout",
          "text": [
            "                            OLS Regression Results                            \n",
            "==============================================================================\n",
            "Dep. Variable:                tip_pct   R-squared:                       0.091\n",
            "Model:                            OLS   Adj. R-squared:                  0.088\n",
            "Method:                 Least Squares   F-statistic:                     24.31\n",
            "Date:                Mon, 12 May 2025   Prob (F-statistic):           1.52e-06\n",
            "Time:                        20:11:47   Log-Likelihood:                -1015.7\n",
            "No. Observations:                 244   AIC:                             2035.\n",
            "Df Residuals:                     242   BIC:                             2042.\n",
            "Df Model:                           1                                         \n",
            "Covariance Type:            nonrobust                                         \n",
            "==============================================================================\n",
            "                 coef    std err          t      P>|t|      [0.025      0.975]\n",
            "------------------------------------------------------------------------------\n",
            "Intercept     30.5297      2.319     13.166      0.000      25.962      35.097\n",
            "net_bill      -0.6146      0.125     -4.931      0.000      -0.860      -0.369\n",
            "==============================================================================\n",
            "Omnibus:                      468.674   Durbin-Watson:                   1.987\n",
            "Prob(Omnibus):                  0.000   Jarque-Bera (JB):           234437.604\n",
            "Skew:                          11.104   Prob(JB):                         0.00\n",
            "Kurtosis:                     153.221   Cond. No.                         43.3\n",
            "==============================================================================\n",
            "\n",
            "Notes:\n",
            "[1] Standard Errors assume that the covariance matrix of the errors is correctly specified.\n"
          ]
        }
      ],
      "source": [
        "# Pacotes essenciais\n",
        "import pandas as pd\n",
        "import numpy as np\n",
        "import seaborn as sns\n",
        "import matplotlib.pyplot as plt\n",
        "import statsmodels.formula.api as smf\n",
        "from sklearn.metrics import r2_score\n",
        "\n",
        "# Carregando a base de dados alternativa\n",
        "df = sns.load_dataset(\"tips\")\n",
        "\n",
        "# Criando a variável net_bill = total_bill - tip (simulando o campo da base anterior)\n",
        "df[\"net_bill\"] = df[\"total_bill\"] - df[\"tip\"]\n",
        "\n",
        "# Calculando o percentual de gorjeta\n",
        "df[\"tip_pct\"] = 100 * df[\"tip\"] / df[\"net_bill\"]\n",
        "\n",
        "# Modelo base: tip_pct ~ net_bill\n",
        "modelo_base = smf.ols(\"tip_pct ~ net_bill\", data=df).fit()\n",
        "print(modelo_base.summary())\n"
      ]
    },
    {
      "cell_type": "markdown",
      "metadata": {
        "id": "zfNfNVMXDztN"
      },
      "source": [
        "### 2. ajuste o modelo de ```tip_pct``` em função do logaritmo de ```net_bill```."
      ]
    },
    {
      "cell_type": "code",
      "execution_count": 4,
      "metadata": {
        "colab": {
          "base_uri": "https://localhost:8080/"
        },
        "id": "i_Slbp3lDztN",
        "outputId": "63fe3116-fedc-43f4-e630-d4bb5d9223e0"
      },
      "outputs": [
        {
          "output_type": "stream",
          "name": "stdout",
          "text": [
            "                            OLS Regression Results                            \n",
            "==============================================================================\n",
            "Dep. Variable:                tip_pct   R-squared:                       0.202\n",
            "Model:                            OLS   Adj. R-squared:                  0.198\n",
            "Method:                 Least Squares   F-statistic:                     61.16\n",
            "Date:                Mon, 12 May 2025   Prob (F-statistic):           1.62e-13\n",
            "Time:                        20:11:47   Log-Likelihood:                -999.85\n",
            "No. Observations:                 244   AIC:                             2004.\n",
            "Df Residuals:                     242   BIC:                             2011.\n",
            "Df Model:                           1                                         \n",
            "Covariance Type:            nonrobust                                         \n",
            "================================================================================\n",
            "                   coef    std err          t      P>|t|      [0.025      0.975]\n",
            "--------------------------------------------------------------------------------\n",
            "Intercept       61.8083      5.401     11.444      0.000      51.170      72.447\n",
            "log_net_bill   -15.3405      1.962     -7.820      0.000     -19.205     -11.476\n",
            "==============================================================================\n",
            "Omnibus:                      440.899   Durbin-Watson:                   1.965\n",
            "Prob(Omnibus):                  0.000   Jarque-Bera (JB):           171509.052\n",
            "Skew:                           9.850   Prob(JB):                         0.00\n",
            "Kurtosis:                     131.381   Cond. No.                         17.9\n",
            "==============================================================================\n",
            "\n",
            "Notes:\n",
            "[1] Standard Errors assume that the covariance matrix of the errors is correctly specified.\n"
          ]
        }
      ],
      "source": [
        "# Adicionando a transformação\n",
        "df[\"log_net_bill\"] = np.log(df[\"net_bill\"])\n",
        "\n",
        "# Modelo: tip_pct ~ log(net_bill)\n",
        "modelo_logx = smf.ols(\"tip_pct ~ log_net_bill\", data=df).fit()\n",
        "print(modelo_logx.summary())\n"
      ]
    },
    {
      "cell_type": "markdown",
      "metadata": {
        "id": "_dTN1r0JDztN"
      },
      "source": [
        "###  3. ajuste o modelo de ```tip_pct``` em função de um polinômio de segundo grau em ```net_bill```."
      ]
    },
    {
      "cell_type": "code",
      "execution_count": 5,
      "metadata": {
        "colab": {
          "base_uri": "https://localhost:8080/"
        },
        "id": "VPv2P0QdDztO",
        "outputId": "1f981b21-382e-4b02-fe5d-6cb7d7c4d526"
      },
      "outputs": [
        {
          "output_type": "stream",
          "name": "stdout",
          "text": [
            "                            OLS Regression Results                            \n",
            "==============================================================================\n",
            "Dep. Variable:                tip_pct   R-squared:                       0.158\n",
            "Model:                            OLS   Adj. R-squared:                  0.151\n",
            "Method:                 Least Squares   F-statistic:                     22.55\n",
            "Date:                Mon, 12 May 2025   Prob (F-statistic):           1.06e-09\n",
            "Time:                        20:11:47   Log-Likelihood:                -1006.4\n",
            "No. Observations:                 244   AIC:                             2019.\n",
            "Df Residuals:                     241   BIC:                             2029.\n",
            "Df Model:                           2                                         \n",
            "Covariance Type:            nonrobust                                         \n",
            "==============================================================================\n",
            "                 coef    std err          t      P>|t|      [0.025      0.975]\n",
            "------------------------------------------------------------------------------\n",
            "Intercept     48.5101      4.695     10.332      0.000      39.261      57.759\n",
            "net_bill      -2.6840      0.490     -5.477      0.000      -3.649      -1.719\n",
            "net_bill_2     0.0484      0.011      4.356      0.000       0.027       0.070\n",
            "==============================================================================\n",
            "Omnibus:                      447.620   Durbin-Watson:                   2.026\n",
            "Prob(Omnibus):                  0.000   Jarque-Bera (JB):           186035.672\n",
            "Skew:                          10.140   Prob(JB):                         0.00\n",
            "Kurtosis:                     136.744   Cond. No.                     2.42e+03\n",
            "==============================================================================\n",
            "\n",
            "Notes:\n",
            "[1] Standard Errors assume that the covariance matrix of the errors is correctly specified.\n",
            "[2] The condition number is large, 2.42e+03. This might indicate that there are\n",
            "strong multicollinearity or other numerical problems.\n"
          ]
        }
      ],
      "source": [
        "# Adicionando coluna quadrática\n",
        "df[\"net_bill_2\"] = df[\"net_bill\"] ** 2\n",
        "\n",
        "# Modelo: tip_pct ~ net_bill + net_bill²\n",
        "modelo_poly2 = smf.ols(\"tip_pct ~ net_bill + net_bill_2\", data=df).fit()\n",
        "print(modelo_poly2.summary())\n"
      ]
    },
    {
      "cell_type": "markdown",
      "metadata": {
        "id": "H6XgLtDuDztO"
      },
      "source": [
        "###  4. ajuste um modelo no log do ```tip_pct``` em função de ```net_bill```. Calcule o $R^2$ também em ```tip_pct```"
      ]
    },
    {
      "cell_type": "code",
      "execution_count": 6,
      "metadata": {
        "colab": {
          "base_uri": "https://localhost:8080/"
        },
        "id": "HqrGCu1pDztP",
        "outputId": "476fe6f3-c81a-487d-a966-e2b126b533ad"
      },
      "outputs": [
        {
          "output_type": "stream",
          "name": "stdout",
          "text": [
            "                            OLS Regression Results                            \n",
            "==============================================================================\n",
            "Dep. Variable:            log_tip_pct   R-squared:                       0.235\n",
            "Model:                            OLS   Adj. R-squared:                  0.232\n",
            "Method:                 Least Squares   F-statistic:                     74.48\n",
            "Date:                Mon, 12 May 2025   Prob (F-statistic):           8.27e-16\n",
            "Time:                        20:11:47   Log-Likelihood:                -106.00\n",
            "No. Observations:                 244   AIC:                             216.0\n",
            "Df Residuals:                     242   BIC:                             223.0\n",
            "Df Model:                           1                                         \n",
            "Covariance Type:            nonrobust                                         \n",
            "==============================================================================\n",
            "                 coef    std err          t      P>|t|      [0.025      0.975]\n",
            "------------------------------------------------------------------------------\n",
            "Intercept      3.3303      0.056     59.748      0.000       3.221       3.440\n",
            "net_bill      -0.0259      0.003     -8.630      0.000      -0.032      -0.020\n",
            "==============================================================================\n",
            "Omnibus:                       49.929   Durbin-Watson:                   1.938\n",
            "Prob(Omnibus):                  0.000   Jarque-Bera (JB):              258.392\n",
            "Skew:                           0.664   Prob(JB):                     7.78e-57\n",
            "Kurtosis:                       7.864   Cond. No.                         43.3\n",
            "==============================================================================\n",
            "\n",
            "Notes:\n",
            "[1] Standard Errors assume that the covariance matrix of the errors is correctly specified.\n",
            "R² em tip_pct (não log): 0.0868\n"
          ]
        }
      ],
      "source": [
        "# Retirando valores zero para aplicar log (evitar -inf)\n",
        "df_logy = df[df[\"tip_pct\"] > 0].copy()\n",
        "df_logy[\"log_tip_pct\"] = np.log(df_logy[\"tip_pct\"])\n",
        "\n",
        "# Modelo\n",
        "modelo_logy = smf.ols(\"log_tip_pct ~ net_bill\", data=df_logy).fit()\n",
        "print(modelo_logy.summary())\n",
        "\n",
        "# R² também em tip_pct original\n",
        "preds = np.exp(modelo_logy.predict(df_logy))\n",
        "r2_y_logy = r2_score(df_logy[\"tip_pct\"], preds)\n",
        "print(f\"R² em tip_pct (não log): {r2_y_logy:.4f}\")\n"
      ]
    },
    {
      "cell_type": "markdown",
      "metadata": {
        "id": "l-SUHTOGDztP"
      },
      "source": [
        "###  5. ajuste um modelo no log do ```tip_pct``` em função do log de ```net_bill```. Calcule o $R^2$ também em ```tip_pct```."
      ]
    },
    {
      "cell_type": "code",
      "execution_count": 7,
      "metadata": {
        "colab": {
          "base_uri": "https://localhost:8080/"
        },
        "id": "SQ-6axGIDztQ",
        "outputId": "b5aa3d1a-5c87-48ed-8e28-088b9fac1cce"
      },
      "outputs": [
        {
          "output_type": "stream",
          "name": "stdout",
          "text": [
            "                            OLS Regression Results                            \n",
            "==============================================================================\n",
            "Dep. Variable:            log_tip_pct   R-squared:                       0.293\n",
            "Model:                            OLS   Adj. R-squared:                  0.291\n",
            "Method:                 Least Squares   F-statistic:                     100.5\n",
            "Date:                Mon, 12 May 2025   Prob (F-statistic):           5.20e-20\n",
            "Time:                        20:11:47   Log-Likelihood:                -96.357\n",
            "No. Observations:                 244   AIC:                             196.7\n",
            "Df Residuals:                     242   BIC:                             203.7\n",
            "Df Model:                           1                                         \n",
            "Covariance Type:            nonrobust                                         \n",
            "================================================================================\n",
            "                   coef    std err          t      P>|t|      [0.025      0.975]\n",
            "--------------------------------------------------------------------------------\n",
            "Intercept        4.2109      0.133     31.626      0.000       3.949       4.473\n",
            "log_net_bill    -0.4849      0.048    -10.026      0.000      -0.580      -0.390\n",
            "==============================================================================\n",
            "Omnibus:                       12.633   Durbin-Watson:                   1.976\n",
            "Prob(Omnibus):                  0.002   Jarque-Bera (JB):               28.054\n",
            "Skew:                           0.141   Prob(JB):                     8.10e-07\n",
            "Kurtosis:                       4.637   Cond. No.                         17.9\n",
            "==============================================================================\n",
            "\n",
            "Notes:\n",
            "[1] Standard Errors assume that the covariance matrix of the errors is correctly specified.\n",
            "R² em tip_pct (não log): 0.2277\n"
          ]
        }
      ],
      "source": [
        "# Já temos log_tip_pct e log_net_bill\n",
        "modelo_loglog = smf.ols(\"log_tip_pct ~ log_net_bill\", data=df_logy).fit()\n",
        "print(modelo_loglog.summary())\n",
        "\n",
        "# R² em escala original\n",
        "preds_loglog = np.exp(modelo_loglog.predict(df_logy))\n",
        "r2_y_loglog = r2_score(df_logy[\"tip_pct\"], preds_loglog)\n",
        "print(f\"R² em tip_pct (não log): {r2_y_loglog:.4f}\")\n"
      ]
    },
    {
      "cell_type": "markdown",
      "metadata": {
        "id": "qrWzVtK7DztQ"
      },
      "source": [
        "###  6. qual modelo resultou no melhor ajuste?"
      ]
    },
    {
      "cell_type": "markdown",
      "source": [
        "> O melhor modelo é aquele com o maior R² em tip_pct original. Isso pode variar, mas geralmente modelos log(y) ~ log(x) ou polinomial tendem a capturar melhor relações não lineares."
      ],
      "metadata": {
        "id": "gLpHBuXHHcfU"
      }
    },
    {
      "cell_type": "code",
      "execution_count": 8,
      "metadata": {
        "colab": {
          "base_uri": "https://localhost:8080/"
        },
        "id": "yemYNVdPDztQ",
        "outputId": "6818c128-643f-4684-cb1e-2ba9ebdbc49e"
      },
      "outputs": [
        {
          "output_type": "stream",
          "name": "stdout",
          "text": [
            "Modelo base:           0.0913\n",
            "Modelo log(x):         0.2017\n",
            "Modelo polinomial 2:   0.1576\n",
            "Modelo log(y):         0.0868\n",
            "Modelo log(y) ~ log(x): 0.2277\n"
          ]
        }
      ],
      "source": [
        "# Comparando os R² dos modelos\n",
        "print(f\"Modelo base:           {modelo_base.rsquared:.4f}\")\n",
        "print(f\"Modelo log(x):         {modelo_logx.rsquared:.4f}\")\n",
        "print(f\"Modelo polinomial 2:   {modelo_poly2.rsquared:.4f}\")\n",
        "print(f\"Modelo log(y):         {r2_y_logy:.4f}\")\n",
        "print(f\"Modelo log(y) ~ log(x): {r2_y_loglog:.4f}\")\n"
      ]
    }
  ],
  "metadata": {
    "kernelspec": {
      "display_name": "Python 3",
      "language": "python",
      "name": "python3"
    },
    "language_info": {
      "codemirror_mode": {
        "name": "ipython",
        "version": 3
      },
      "file_extension": ".py",
      "mimetype": "text/x-python",
      "name": "python",
      "nbconvert_exporter": "python",
      "pygments_lexer": "ipython3",
      "version": "3.8.5"
    },
    "colab": {
      "provenance": []
    }
  },
  "nbformat": 4,
  "nbformat_minor": 0
}