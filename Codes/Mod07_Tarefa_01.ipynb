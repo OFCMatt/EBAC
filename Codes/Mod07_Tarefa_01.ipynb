{
  "cells": [
    {
      "cell_type": "markdown",
      "metadata": {
        "id": "d8yCrvnM_2sd"
      },
      "source": [
        "# Módulo 07, Tarefa 01\n",
        "\n",
        "Vamos começar a mexer na nossa base de projeto? Já fizemos um exercício de montar a variável resposta, já pudemos perceber que essa atividade pode não ser trivial. Vamos agora trabalhar a base para que fique propícia ao *scikitlearn* para trabalharmos.\n",
        "\n",
        "Lembrando, a base se chama demo01.csv, e originalmente está publicada [aqui](https://www.kaggle.com/rikdifos/credit-card-approval-prediction)."
      ]
    },
    {
      "cell_type": "markdown",
      "metadata": {
        "id": "hcMBVVE8_2sg"
      },
      "source": [
        "#### 1) Carregue a base e avalie:\n",
        "\n",
        "- As variáveis\n",
        "- Tipos de dados de cada variável\n",
        "- Quantidade de missings\n",
        "- Distribuição da variável resposta (mau)"
      ]
    },
    {
      "cell_type": "code",
      "execution_count": 7,
      "metadata": {
        "id": "jfUxW_PX_2sh",
        "colab": {
          "base_uri": "https://localhost:8080/"
        },
        "outputId": "af56bec8-4e39-4e48-8f22-93c94e6f6703"
      },
      "outputs": [
        {
          "output_type": "stream",
          "name": "stdout",
          "text": [
            "Index(['sexo', 'posse_de_veiculo', 'posse_de_imovel', 'qtd_filhos',\n",
            "       'tipo_renda', 'educacao', 'estado_civil', 'tipo_residencia', 'idade',\n",
            "       'tempo_emprego', 'possui_celular', 'possui_fone_comercial',\n",
            "       'possui_fone', 'possui_email', 'qt_pessoas_residencia', 'mau'],\n",
            "      dtype='object')\n",
            "sexo                      object\n",
            "posse_de_veiculo          object\n",
            "posse_de_imovel           object\n",
            "qtd_filhos                 int64\n",
            "tipo_renda                object\n",
            "educacao                  object\n",
            "estado_civil              object\n",
            "tipo_residencia           object\n",
            "idade                    float64\n",
            "tempo_emprego            float64\n",
            "possui_celular             int64\n",
            "possui_fone_comercial      int64\n",
            "possui_fone                int64\n",
            "possui_email               int64\n",
            "qt_pessoas_residencia    float64\n",
            "mau                         bool\n",
            "dtype: object\n",
            "sexo                     0\n",
            "posse_de_veiculo         0\n",
            "posse_de_imovel          0\n",
            "qtd_filhos               0\n",
            "tipo_renda               0\n",
            "educacao                 0\n",
            "estado_civil             0\n",
            "tipo_residencia          0\n",
            "idade                    0\n",
            "tempo_emprego            0\n",
            "possui_celular           0\n",
            "possui_fone_comercial    0\n",
            "possui_fone              0\n",
            "possui_email             0\n",
            "qt_pessoas_residencia    0\n",
            "mau                      0\n",
            "dtype: int64\n",
            "mau\n",
            "False    16260\n",
            "True       390\n",
            "Name: count, dtype: int64\n"
          ]
        }
      ],
      "source": [
        "import pandas as pd\n",
        "\n",
        "# Carregar o arquivo demo01.csv\n",
        "df = pd.read_csv('demo01.csv')\n",
        "\n",
        "# Verificar as variáveis (colunas)\n",
        "print(df.columns)\n",
        "\n",
        "# Verificar os tipos de dados de cada variável\n",
        "print(df.dtypes)\n",
        "\n",
        "# Verificar a quantidade de missings\n",
        "missing_values = df.isnull().sum()\n",
        "print(missing_values)\n",
        "\n",
        "# Verificar a distribuição da variável resposta 'mau'\n",
        "print(df['mau'].value_counts())\n"
      ]
    },
    {
      "cell_type": "markdown",
      "metadata": {
        "id": "_v0f02mE_2si"
      },
      "source": [
        "#### 2) Vamos montar um metadados\n",
        "\n",
        "1. Crie um dataframe com os nomes de cada variável e o tipo de dados de cada variável.\n",
        "2. Adicione uma coluna nesse *dataframe* chamada \"qtd_categorias\" e coloque nela o número de categorias correspondente de cada variável.\n",
        "    Dica:\n",
        "        1. inicie uma lista vazia\n",
        "        2. faça um for ao longo dos nomes das variáveis,\n",
        "        3. conte o número de categorias dessa variável\n",
        "        4. acumule essa informação de 3. na lista que você criou em 1.\n",
        "        5. No final, essa lista pode ser atribuída à nossa variável."
      ]
    },
    {
      "cell_type": "code",
      "execution_count": 8,
      "metadata": {
        "id": "gNF5BRdA_2si",
        "colab": {
          "base_uri": "https://localhost:8080/"
        },
        "outputId": "0b08483c-dd44-44fe-8670-7b3597934c6c"
      },
      "outputs": [
        {
          "output_type": "stream",
          "name": "stdout",
          "text": [
            "                 Variable     Type  Num_Categories\n",
            "0                    sexo   object             2.0\n",
            "1        posse_de_veiculo   object             2.0\n",
            "2         posse_de_imovel   object             2.0\n",
            "3              qtd_filhos    int64             NaN\n",
            "4              tipo_renda   object             5.0\n",
            "5                educacao   object             5.0\n",
            "6            estado_civil   object             5.0\n",
            "7         tipo_residencia   object             6.0\n",
            "8                   idade  float64             NaN\n",
            "9           tempo_emprego  float64             NaN\n",
            "10         possui_celular    int64             NaN\n",
            "11  possui_fone_comercial    int64             NaN\n",
            "12            possui_fone    int64             NaN\n",
            "13           possui_email    int64             NaN\n",
            "14  qt_pessoas_residencia  float64             NaN\n",
            "15                    mau     bool             NaN\n"
          ]
        }
      ],
      "source": [
        "# Criar uma lista para armazenar os metadados\n",
        "metadata = []\n",
        "\n",
        "# Loop através das colunas para contar o número de categorias e os tipos\n",
        "for col in df.columns:\n",
        "    data_type = df[col].dtype\n",
        "    if data_type == 'object':  # Para variáveis qualitativas\n",
        "        num_categories = df[col].nunique()\n",
        "    else:\n",
        "        num_categories = None\n",
        "\n",
        "    metadata.append({'Variable': col, 'Type': data_type, 'Num_Categories': num_categories})\n",
        "\n",
        "# Criar o dataframe de metadados\n",
        "metadata_df = pd.DataFrame(metadata)\n",
        "print(metadata_df)\n"
      ]
    },
    {
      "cell_type": "markdown",
      "metadata": {
        "id": "h0XKJFhY_2si"
      },
      "source": [
        "#### 3) Crie variáveis dummy para as variáveis necessárias (i.e. aquelas que são qualitativas e não estão armazenadas como {0, 1} ou {True, False}. Crie um *dataframe* apenas com as variáveis apropriadas para entrada no scikitlearn - elimine as variáveis tipo *str*, mantendo apenas suas versões *dummy*."
      ]
    },
    {
      "cell_type": "code",
      "execution_count": 9,
      "metadata": {
        "id": "ePbdZDOi_2sj",
        "colab": {
          "base_uri": "https://localhost:8080/"
        },
        "outputId": "65784648-8c76-4114-f018-44aeaa4f2005"
      },
      "outputs": [
        {
          "output_type": "stream",
          "name": "stdout",
          "text": [
            "   qtd_filhos      idade  tempo_emprego  possui_celular  \\\n",
            "0           0  58.832877       3.106849               1   \n",
            "1           0  52.356164       8.358904               1   \n",
            "2           0  52.356164       8.358904               1   \n",
            "3           0  46.224658       2.106849               1   \n",
            "4           0  29.230137       3.021918               1   \n",
            "\n",
            "   possui_fone_comercial  possui_fone  possui_email  qt_pessoas_residencia  \\\n",
            "0                      0            0             0                    2.0   \n",
            "1                      0            1             1                    1.0   \n",
            "2                      0            1             1                    1.0   \n",
            "3                      1            1             1                    2.0   \n",
            "4                      0            0             0                    2.0   \n",
            "\n",
            "     mau  sexo_M  ...  educacao_Secondary / secondary special  \\\n",
            "0  False    True  ...                                    True   \n",
            "1  False   False  ...                                    True   \n",
            "2  False   False  ...                                    True   \n",
            "3  False    True  ...                                   False   \n",
            "4  False   False  ...                                   False   \n",
            "\n",
            "   estado_civil_Married  estado_civil_Separated  \\\n",
            "0                  True                   False   \n",
            "1                 False                   False   \n",
            "2                 False                   False   \n",
            "3                  True                   False   \n",
            "4                  True                   False   \n",
            "\n",
            "   estado_civil_Single / not married  estado_civil_Widow  \\\n",
            "0                              False               False   \n",
            "1                               True               False   \n",
            "2                               True               False   \n",
            "3                              False               False   \n",
            "4                              False               False   \n",
            "\n",
            "   tipo_residencia_House / apartment  tipo_residencia_Municipal apartment  \\\n",
            "0                               True                                False   \n",
            "1                               True                                False   \n",
            "2                               True                                False   \n",
            "3                               True                                False   \n",
            "4                               True                                False   \n",
            "\n",
            "   tipo_residencia_Office apartment  tipo_residencia_Rented apartment  \\\n",
            "0                             False                             False   \n",
            "1                             False                             False   \n",
            "2                             False                             False   \n",
            "3                             False                             False   \n",
            "4                             False                             False   \n",
            "\n",
            "   tipo_residencia_With parents  \n",
            "0                         False  \n",
            "1                         False  \n",
            "2                         False  \n",
            "3                         False  \n",
            "4                         False  \n",
            "\n",
            "[5 rows x 29 columns]\n"
          ]
        }
      ],
      "source": [
        "# Criação das variáveis dummy\n",
        "df_dummies = pd.get_dummies(df, drop_first=True)\n",
        "\n",
        "# Verificar as primeiras linhas do novo dataframe\n",
        "print(df_dummies.head())\n"
      ]
    },
    {
      "cell_type": "markdown",
      "metadata": {
        "id": "uhaqFcPE_2sj"
      },
      "source": [
        "#### 4) Qual variável é mais poderosa?\n",
        "\n",
        "Considere as variáveis ```possui_email``` e ```posse_de_veiculo```. Faça uma tabela cruzada entre elas e responda qual delas te parece mais poderosa para prever a probabilidade de ```mau = 1```?"
      ]
    },
    {
      "cell_type": "code",
      "execution_count": 10,
      "metadata": {
        "id": "3wUAHc_-_2sj",
        "colab": {
          "base_uri": "https://localhost:8080/"
        },
        "outputId": "6439e9fa-6485-4b7f-832d-f7d415c34f09"
      },
      "outputs": [
        {
          "output_type": "stream",
          "name": "stdout",
          "text": [
            "posse_de_veiculo      0     1    All\n",
            "possui_email                        \n",
            "0                  9341  5829  15170\n",
            "1                   837   643   1480\n",
            "All               10178  6472  16650\n",
            "Correlação com possui_email:               possui_email       mau\n",
            "possui_email      1.000000 -0.006512\n",
            "mau              -0.006512  1.000000\n",
            "Correlação com posse_de_veiculo:                   posse_de_veiculo       mau\n",
            "posse_de_veiculo          1.000000 -0.007003\n",
            "mau                      -0.007003  1.000000\n"
          ]
        }
      ],
      "source": [
        "# Transformar 'posse_de_veiculo' e 'possui_email' em variáveis numéricas (0 e 1)\n",
        "df['posse_de_veiculo'] = df['posse_de_veiculo'].map({'N': 0, 'Y': 1})\n",
        "df['possui_email'] = df['possui_email'].map({0: 0, 1: 1})\n",
        "\n",
        "# Verificar a tabela cruzada\n",
        "contingency_table = pd.crosstab(df['possui_email'], df['posse_de_veiculo'], margins=True)\n",
        "print(contingency_table)\n",
        "\n",
        "# Agora, calcular a correlação entre as variáveis e 'mau'\n",
        "correlation_email = df[['possui_email', 'mau']].corr()\n",
        "correlation_veiculo = df[['posse_de_veiculo', 'mau']].corr()\n",
        "\n",
        "print(\"Correlação com possui_email:\", correlation_email)\n",
        "print(\"Correlação com posse_de_veiculo:\", correlation_veiculo)\n"
      ]
    },
    {
      "cell_type": "markdown",
      "metadata": {
        "id": "G2Issl2e_2sj"
      },
      "source": [
        "#### 5) Salve a base, pois ela será utilizada no final deste módulo."
      ]
    },
    {
      "cell_type": "code",
      "execution_count": 11,
      "metadata": {
        "id": "KSEj8OL9_2sk"
      },
      "outputs": [],
      "source": [
        "# Salvar o dataframe modificado\n",
        "df_dummies.to_csv('demo01_processed.csv', index=False)\n"
      ]
    }
  ],
  "metadata": {
    "kernelspec": {
      "display_name": "Python 3",
      "language": "python",
      "name": "python3"
    },
    "language_info": {
      "codemirror_mode": {
        "name": "ipython",
        "version": 3
      },
      "file_extension": ".py",
      "mimetype": "text/x-python",
      "name": "python",
      "nbconvert_exporter": "python",
      "pygments_lexer": "ipython3",
      "version": "3.8.5"
    },
    "colab": {
      "provenance": []
    }
  },
  "nbformat": 4,
  "nbformat_minor": 0
}