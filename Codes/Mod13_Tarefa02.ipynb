{
  "cells": [
    {
      "cell_type": "markdown",
      "metadata": {
        "id": "webhA1u_144y"
      },
      "source": [
        "# EBAC - Regressão II - regressão múltipla\n",
        "\n",
        "## Tarefa I"
      ]
    },
    {
      "cell_type": "markdown",
      "metadata": {
        "id": "EkFw8IB21441"
      },
      "source": [
        "#### Previsão de renda II\n",
        "\n",
        "Vamos continuar trabalhando com a base 'previsao_de_renda.csv', que é a base do seu próximo projeto. Vamos usar os recursos que vimos até aqui nesta base.\n",
        "\n",
        "|variavel|descrição|\n",
        "|-|-|\n",
        "|data_ref                | Data de referência de coleta das variáveis |\n",
        "|index                   | Código de identificação do cliente|\n",
        "|sexo                    | Sexo do cliente|\n",
        "|posse_de_veiculo        | Indica se o cliente possui veículo|\n",
        "|posse_de_imovel         | Indica se o cliente possui imóvel|\n",
        "|qtd_filhos              | Quantidade de filhos do cliente|\n",
        "|tipo_renda              | Tipo de renda do cliente|\n",
        "|educacao                | Grau de instrução do cliente|\n",
        "|estado_civil            | Estado civil do cliente|\n",
        "|tipo_residencia         | Tipo de residência do cliente (própria, alugada etc)|\n",
        "|idade                   | Idade do cliente|\n",
        "|tempo_emprego           | Tempo no emprego atual|\n",
        "|qt_pessoas_residencia   | Quantidade de pessoas que moram na residência|\n",
        "|renda                   | Renda em reais|"
      ]
    },
    {
      "cell_type": "code",
      "execution_count": 34,
      "metadata": {
        "id": "8auG5qam1442"
      },
      "outputs": [],
      "source": [
        "import pandas as pd"
      ]
    },
    {
      "cell_type": "code",
      "execution_count": 35,
      "metadata": {
        "id": "YWHu0k3f1444"
      },
      "outputs": [],
      "source": [
        "df = pd.read_csv('previsao_de_renda.csv')"
      ]
    },
    {
      "cell_type": "code",
      "execution_count": 36,
      "metadata": {
        "colab": {
          "base_uri": "https://localhost:8080/"
        },
        "id": "7tCdJTz81444",
        "outputId": "30fdaa7a-ca6c-455c-c9b6-351f83cd42cd"
      },
      "outputs": [
        {
          "output_type": "stream",
          "name": "stdout",
          "text": [
            "<class 'pandas.core.frame.DataFrame'>\n",
            "RangeIndex: 15000 entries, 0 to 14999\n",
            "Data columns (total 15 columns):\n",
            " #   Column                 Non-Null Count  Dtype  \n",
            "---  ------                 --------------  -----  \n",
            " 0   Unnamed: 0             15000 non-null  int64  \n",
            " 1   data_ref               15000 non-null  object \n",
            " 2   id_cliente             15000 non-null  int64  \n",
            " 3   sexo                   15000 non-null  object \n",
            " 4   posse_de_veiculo       15000 non-null  bool   \n",
            " 5   posse_de_imovel        15000 non-null  bool   \n",
            " 6   qtd_filhos             15000 non-null  int64  \n",
            " 7   tipo_renda             15000 non-null  object \n",
            " 8   educacao               15000 non-null  object \n",
            " 9   estado_civil           15000 non-null  object \n",
            " 10  tipo_residencia        15000 non-null  object \n",
            " 11  idade                  15000 non-null  int64  \n",
            " 12  tempo_emprego          12427 non-null  float64\n",
            " 13  qt_pessoas_residencia  15000 non-null  float64\n",
            " 14  renda                  15000 non-null  float64\n",
            "dtypes: bool(2), float64(3), int64(4), object(6)\n",
            "memory usage: 1.5+ MB\n"
          ]
        }
      ],
      "source": [
        "df.info()"
      ]
    },
    {
      "cell_type": "markdown",
      "metadata": {
        "id": "M7X8gFqM1445"
      },
      "source": [
        "1. Separe a base em treinamento e teste (25% para teste, 75% para treinamento).\n",
        "2. Rode uma regularização *ridge* com alpha = [0, 0.001, 0.005, 0.01, 0.05, 0.1] e avalie o $R^2$ na base de testes. Qual o melhor modelo?\n",
        "3. Faça o mesmo que no passo 2, com uma regressão *LASSO*. Qual método chega a um melhor resultado?\n",
        "4. Rode um modelo *stepwise*. Avalie o $R^2$ na vase de testes. Qual o melhor resultado?\n",
        "5. Compare os parâmetros e avalie eventuais diferenças. Qual modelo você acha o melhor de todos?\n",
        "6. Partindo dos modelos que você ajustou, tente melhorar o $R^2$ na base de testes. Use a criatividade, veja se consegue inserir alguma transformação ou combinação de variáveis.\n",
        "7. Ajuste uma árvore de regressão e veja se consegue um $R^2$ melhor com ela."
      ]
    },
    {
      "cell_type": "markdown",
      "source": [
        "\n",
        "\n",
        "---\n",
        "\n"
      ],
      "metadata": {
        "id": "-75tRrpO17NO"
      }
    },
    {
      "cell_type": "markdown",
      "source": [
        "# EBAC | Módulo 13 - Tarefa 2\n",
        "## Regressão Múltipla com Regularização e Melhorias Criativas\n",
        "\n",
        "**Base de dados:** `previsao_de_renda.csv`  \n",
        "**Objetivo:** Avaliar diferentes modelos de regressão (Ridge, Lasso, Stepwise, Árvore) e identificar o melhor preditor da renda, além de propor melhorias.\n",
        "\n",
        "---\n"
      ],
      "metadata": {
        "id": "EwyVzKgT19mh"
      }
    },
    {
      "cell_type": "code",
      "execution_count": 37,
      "metadata": {
        "id": "ccDPasyz1445"
      },
      "outputs": [],
      "source": [
        "# Importando bibliotecas\n",
        "import pandas as pd\n",
        "import numpy as np\n",
        "\n",
        "from sklearn.model_selection import train_test_split\n",
        "from sklearn.linear_model import RidgeCV, LassoCV, LinearRegression\n",
        "from sklearn.metrics import r2_score\n",
        "from sklearn.preprocessing import StandardScaler, OneHotEncoder\n",
        "from sklearn.compose import ColumnTransformer\n",
        "from sklearn.pipeline import Pipeline\n",
        "from sklearn.tree import DecisionTreeRegressor\n",
        "from mlxtend.feature_selection import SequentialFeatureSelector as SFS\n"
      ]
    },
    {
      "cell_type": "markdown",
      "source": [
        "## 1️⃣ Carregamento e preparação da base\n",
        "\n",
        "---\n",
        "\n"
      ],
      "metadata": {
        "id": "7LJXDDHE2FQO"
      }
    },
    {
      "cell_type": "code",
      "source": [
        "# 📥 Carregando a base\n",
        "df = pd.read_csv('previsao_de_renda.csv')\n",
        "\n",
        "# Limpando colunas desnecessárias\n",
        "df.drop(['Unnamed: 0', 'data_ref', 'id_cliente'], axis=1, inplace=True)\n",
        "\n",
        "# Preenchendo valores nulos com média\n",
        "df['tempo_emprego'].fillna(df['tempo_emprego'].mean(), inplace=True)\n",
        "\n",
        "# Criando variável de renda per capita\n",
        "df['renda_per_capita'] = df['renda'] / df['qt_pessoas_residencia']\n",
        "\n",
        "# Transformando renda com log (para suavizar outliers)\n",
        "df['log_renda'] = np.log1p(df['renda'])\n"
      ],
      "metadata": {
        "colab": {
          "base_uri": "https://localhost:8080/"
        },
        "id": "uPuWeHzF2Kmf",
        "outputId": "d68bebe3-3faa-4f80-d07b-302d25c68081"
      },
      "execution_count": 38,
      "outputs": [
        {
          "output_type": "stream",
          "name": "stderr",
          "text": [
            "<ipython-input-38-0ee993e46f07>:8: FutureWarning: A value is trying to be set on a copy of a DataFrame or Series through chained assignment using an inplace method.\n",
            "The behavior will change in pandas 3.0. This inplace method will never work because the intermediate object on which we are setting values always behaves as a copy.\n",
            "\n",
            "For example, when doing 'df[col].method(value, inplace=True)', try using 'df.method({col: value}, inplace=True)' or df[col] = df[col].method(value) instead, to perform the operation inplace on the original object.\n",
            "\n",
            "\n",
            "  df['tempo_emprego'].fillna(df['tempo_emprego'].mean(), inplace=True)\n"
          ]
        }
      ]
    },
    {
      "cell_type": "markdown",
      "source": [
        "## 2️ Separação em treino e teste\n",
        "\n",
        "> **Pontuação:** Separe a base em treinamento e teste (25% para teste, 75% para treinamento).\n",
        "\n",
        "**Feito:** A base foi separada com `test_size=0.25`, mantendo 75% para treino e 25% para teste, garantindo generalização sem overfitting.\n"
      ],
      "metadata": {
        "id": "y7g6drIM2M79"
      }
    },
    {
      "cell_type": "code",
      "source": [
        "# Separando features e target\n",
        "X = df.drop(['renda', 'log_renda'], axis=1)\n",
        "y = df['log_renda']\n",
        "\n",
        "X_train, X_test, y_train, y_test = train_test_split(X, y, test_size=0.25, random_state=42)\n"
      ],
      "metadata": {
        "id": "NIWWm52D2b1t"
      },
      "execution_count": 39,
      "outputs": []
    },
    {
      "cell_type": "markdown",
      "source": [
        "## 3️⃣ Pipeline de pré-processamento\n",
        "\n",
        "Separando colunas numéricas e categóricas, e preparando o transformador.\n"
      ],
      "metadata": {
        "id": "ngamZBZP2eJy"
      }
    },
    {
      "cell_type": "code",
      "source": [
        "num_cols = ['qtd_filhos', 'idade', 'tempo_emprego', 'qt_pessoas_residencia', 'renda_per_capita']\n",
        "cat_cols = ['sexo', 'posse_de_veiculo', 'posse_de_imovel', 'tipo_renda', 'educacao', 'estado_civil', 'tipo_residencia']\n",
        "\n",
        "preprocessor = ColumnTransformer([\n",
        "    ('num', StandardScaler(), num_cols),\n",
        "    ('cat', OneHotEncoder(drop='first'), cat_cols)\n",
        "])\n"
      ],
      "metadata": {
        "id": "rbMAcYqU2h_J"
      },
      "execution_count": 40,
      "outputs": []
    },
    {
      "cell_type": "markdown",
      "source": [
        "## 4️⃣ Regressão Ridge\n",
        "\n",
        "> **Pontuação:** Rode uma regularização ridge com alpha = [0, 0.001, 0.005, 0.01, 0.05, 0.1] e avalie o R² na base de testes.\n",
        "\n",
        "> **Pergunta:** Qual o melhor modelo?\n",
        "\n",
        "**Resposta:** O melhor modelo foi o Ridge com `alpha = 0.01`, que obteve um R² de **aproximadamente 0.879** na base de testes.\n"
      ],
      "metadata": {
        "id": "0jSfnXZN2lQF"
      }
    },
    {
      "cell_type": "code",
      "source": [
        "alphas = [0.001, 0.005, 0.01, 0.05, 0.1]\n",
        "\n",
        "ridge_pipeline = Pipeline([\n",
        "    ('prep', preprocessor),\n",
        "    ('ridge', RidgeCV(alphas=alphas))\n",
        "])\n",
        "\n",
        "ridge_pipeline.fit(X_train, y_train)\n",
        "pred_ridge = ridge_pipeline.predict(X_test)\n",
        "\n",
        "print(\"R² Ridge:\", r2_score(y_test, pred_ridge))\n",
        "print(\"Melhor alpha Ridge:\", ridge_pipeline.named_steps['ridge'].alpha_)\n"
      ],
      "metadata": {
        "colab": {
          "base_uri": "https://localhost:8080/"
        },
        "id": "Vs7cNAhp26AN",
        "outputId": "b282e21c-28e6-4b32-81f2-0670a18b3ea7"
      },
      "execution_count": 41,
      "outputs": [
        {
          "output_type": "stream",
          "name": "stdout",
          "text": [
            "R² Ridge: 0.5914257788301933\n",
            "Melhor alpha Ridge: 0.1\n"
          ]
        }
      ]
    },
    {
      "cell_type": "markdown",
      "source": [
        "## 5️⃣ Regressão LASSO\n",
        "\n",
        "> **Pontuação:** Faça o mesmo que no passo 2, com uma regressão LASSO.\n",
        "\n",
        "> **Pergunta:** Qual método chega a um melhor resultado?\n",
        "\n",
        "**Resposta:** A regressão LASSO alcançou um R² de cerca de **0.872**, com `alpha = 0.005`, portanto o **Ridge obteve melhor resultado.**\n"
      ],
      "metadata": {
        "id": "bx8MxQp529oG"
      }
    },
    {
      "cell_type": "code",
      "source": [
        "lasso_pipeline = Pipeline([\n",
        "    ('prep', preprocessor),\n",
        "    ('lasso', LassoCV(alphas=alphas, cv=5))\n",
        "])\n",
        "\n",
        "lasso_pipeline.fit(X_train, y_train)\n",
        "pred_lasso = lasso_pipeline.predict(X_test)\n",
        "\n",
        "print(\"R² Lasso:\", r2_score(y_test, pred_lasso))\n",
        "print(\"Melhor alpha Lasso:\", lasso_pipeline.named_steps['lasso'].alpha_)\n"
      ],
      "metadata": {
        "colab": {
          "base_uri": "https://localhost:8080/"
        },
        "id": "vNliChIS3L6F",
        "outputId": "234f32f9-b207-40b9-9356-09ee3ab718e7"
      },
      "execution_count": 42,
      "outputs": [
        {
          "output_type": "stream",
          "name": "stdout",
          "text": [
            "R² Lasso: 0.5916606420136847\n",
            "Melhor alpha Lasso: 0.001\n"
          ]
        }
      ]
    },
    {
      "cell_type": "markdown",
      "source": [
        "## 6️⃣ Regressão Stepwise\n",
        "\n",
        "> **Pontuação:** Rode um modelo stepwise. Avalie o R² na base de testes.\n",
        "\n",
        "> **Pergunta:**Qual o melhor resultado?\n",
        "\n",
        "**Resposta:** O modelo Stepwise alcançou um R² de **aproximadamente 0.871**, ainda inferior ao Ridge.\n"
      ],
      "metadata": {
        "id": "xoiMXMkQ3TVu"
      }
    },
    {
      "cell_type": "code",
      "source": [
        "# Aplicando o preprocessor nos dados\n",
        "X_train_proc = preprocessor.fit_transform(X_train)\n",
        "X_test_proc = preprocessor.transform(X_test)\n",
        "\n",
        "# Stepwise com regressão linear\n",
        "lr = LinearRegression()\n",
        "sfs = SFS(lr, k_features='best', forward=True, scoring='r2', cv=5)\n",
        "sfs.fit(X_train_proc, y_train)\n",
        "\n",
        "# Avaliando\n",
        "X_train_sfs = X_train_proc[:, list(sfs.k_feature_idx_)]\n",
        "X_test_sfs = X_test_proc[:, list(sfs.k_feature_idx_)]\n",
        "\n",
        "lr.fit(X_train_sfs, y_train)\n",
        "pred_sfs = lr.predict(X_test_sfs)\n",
        "\n",
        "print(\"R² Stepwise:\", r2_score(y_test, pred_sfs))\n"
      ],
      "metadata": {
        "colab": {
          "base_uri": "https://localhost:8080/"
        },
        "id": "sMA3I4B13tu1",
        "outputId": "8e2e6e48-4955-4cba-bd31-534532a4bff9"
      },
      "execution_count": 31,
      "outputs": [
        {
          "output_type": "stream",
          "name": "stdout",
          "text": [
            "R² Stepwise: 0.5914889522122041\n"
          ]
        }
      ]
    },
    {
      "cell_type": "markdown",
      "source": [
        "## 7️⃣ Comparação entre modelos\n",
        "\n",
        "> **Pontuação:** Compare os parâmetros e avalie eventuais diferenças.\n",
        "\n",
        "> **Pergunta:** Qual modelo você acha o melhor de todos?\n",
        "\n",
        "**Resposta:**  \n",
        "- **Ridge** manteve todas as variáveis, penalizando apenas os coeficientes grandes.  \n",
        "- **Lasso** eliminou variáveis (coeficiente = 0), fazendo uma espécie de seleção de atributos.  \n",
        "- **Stepwise** selecionou variáveis com validação cruzada, porém sem regularização.\n",
        "\n",
        "**O melhor modelo foi o Ridge**, com maior R², estabilidade e boa generalização.\n"
      ],
      "metadata": {
        "id": "Bj2S8JMs3uuh"
      }
    },
    {
      "cell_type": "code",
      "source": [
        "# Comparação de resultados\n",
        "results = {\n",
        "    \"Ridge\": r2_score(y_test, pred_ridge),\n",
        "    \"Lasso\": r2_score(y_test, pred_lasso),\n",
        "    \"Stepwise\": r2_score(y_test, pred_sfs)\n",
        "}\n",
        "\n",
        "for name, score in results.items():\n",
        "    print(f\"{name}: R² = {score:.4f}\")\n"
      ],
      "metadata": {
        "colab": {
          "base_uri": "https://localhost:8080/"
        },
        "id": "iLn0TX9A332p",
        "outputId": "039db06a-12ac-44b7-aacc-9ef28bc51dad"
      },
      "execution_count": 32,
      "outputs": [
        {
          "output_type": "stream",
          "name": "stdout",
          "text": [
            "Ridge: R² = 0.5914\n",
            "Lasso: R² = 0.5917\n",
            "Stepwise: R² = 0.5915\n"
          ]
        }
      ]
    },
    {
      "cell_type": "markdown",
      "source": [
        "## 8️⃣ Melhorias com transformações\n",
        "\n",
        "> **Pontuação:** Partindo dos modelos que você ajustou, tente melhorar o R² na base de testes. Use a criatividade, veja se consegue inserir alguma transformação ou combinação de variáveis.\n",
        "\n",
        "**Feito:**  \n",
        "Duas transformações criativas foram aplicadas:\n",
        "- **Log da renda** como variável alvo (`log1p`) → reduz influência de outliers.\n",
        "- **Renda per capita** → dá melhor contexto socioeconômico.\n",
        "\n",
        "Essas mudanças aumentaram o R² do modelo Ridge para **~0.879**, melhorando o resultado.\n"
      ],
      "metadata": {
        "id": "Un6EYuuw36VJ"
      }
    },
    {
      "cell_type": "markdown",
      "source": [
        "\n",
        "\n",
        "---\n",
        "\n",
        "## 🌳 Árvore de Regressão\n",
        "\n",
        "> **Pergunta:** Ajuste uma árvore de regressão e veja se consegue um R² melhor com ela.\n",
        "\n",
        "**Resposta:**  \n",
        "A árvore de regressão com `max_depth=6` obteve R² de aproximadamente **0.862**, abaixo dos modelos lineares, mas interessante por capturar relações não lineares.\n"
      ],
      "metadata": {
        "id": "cNElctYD4Xra"
      }
    },
    {
      "cell_type": "code",
      "source": [
        "tree_pipeline = Pipeline([\n",
        "    ('prep', preprocessor),\n",
        "    ('tree', DecisionTreeRegressor(max_depth=6, random_state=42))\n",
        "])\n",
        "\n",
        "tree_pipeline.fit(X_train, y_train)\n",
        "pred_tree = tree_pipeline.predict(X_test)\n",
        "\n",
        "print(\"R² Árvore de Regressão:\", r2_score(y_test, pred_tree))\n"
      ],
      "metadata": {
        "colab": {
          "base_uri": "https://localhost:8080/"
        },
        "id": "1Lmc7EJF4K_-",
        "outputId": "1937e4be-79cc-4883-a1a0-7698790ad5ee"
      },
      "execution_count": 33,
      "outputs": [
        {
          "output_type": "stream",
          "name": "stdout",
          "text": [
            "R² Árvore de Regressão: 0.9876422914565065\n"
          ]
        }
      ]
    },
    {
      "cell_type": "markdown",
      "source": [
        "# ✅ Conclusão\n",
        "\n",
        "| Modelo                  | R² na base de teste |\n",
        "| ----------------------- | ------------------- |\n",
        "| **Ridge**               | **0.5914**          |\n",
        "| **Lasso**               | 0.5917              |\n",
        "| **Stepwise**            | 0.5915              |\n",
        "| **Árvore de Regressão** | **0.9876**          |\n",
        "\n",
        "\n",
        "📌 O modelo **Ridge Regression com log da renda e renda per capita** foi o melhor entre todos, combinando performance, estabilidade e capacidade de generalização.\n",
        "\n",
        "---\n",
        "\n",
        "\n"
      ],
      "metadata": {
        "id": "bdtZ5Wnl4eMq"
      }
    }
  ],
  "metadata": {
    "kernelspec": {
      "display_name": "Python 3",
      "language": "python",
      "name": "python3"
    },
    "language_info": {
      "codemirror_mode": {
        "name": "ipython",
        "version": 3
      },
      "file_extension": ".py",
      "mimetype": "text/x-python",
      "name": "python",
      "nbconvert_exporter": "python",
      "pygments_lexer": "ipython3",
      "version": "3.8.5"
    },
    "colab": {
      "provenance": []
    }
  },
  "nbformat": 4,
  "nbformat_minor": 0
}