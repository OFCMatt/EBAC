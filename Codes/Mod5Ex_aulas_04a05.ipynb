{
  "cells": [
    {
      "cell_type": "markdown",
      "metadata": {
        "id": "RIlMUjLT-9vt"
      },
      "source": [
        "# Tarefa 02 Módulo 05\n",
        "\n",
        "O nosso projeto desta sequência de módulos do curso será um aprofundamento da demonstração sobre classificação de risco de crédito que vimos lá no comecinho. Pois recebemos uma base já montada pra nós. Tenha certeza de que ela passou por um longo processamento até ficar daquele jeito. Neste exercício vamos exercitar o que aprendemos nas ultimas aulas e montar a variável resposta da base do nosso projeto.\n",
        "\n",
        "#### Marcação de bom e mau\n",
        "O objetivo da modelagem é classificar o risco de inadimplência, ou como se diz no meio, o risco de *default*. Podemos fazer longas discussões sobre o conceito de *default* com base em estudos e exigências regulatórias, para efeitos deste estudo, um cliente em *default* é aquele que está em 60 dias de atraso ou mais. Então classificaremos os clientes como 'bons' e 'maus' assim:\n",
        "- **Maus** pagadores: são aqueles que entraram em 'default' (atraso 60 dias ou mais) nos 24 meses seguintes à aquisição do cartão de crédito.\n",
        "- **Bons** pagadores: são considerados todos os demais.\n",
        "- **Excluídos**: Clientes que não adquiriram um cartão de crédito (seja por recusa, seja por desistência) não possuem informações de pagamento, portanto não se pode identificar se são bons ou maus. Há uma longa discussão e literatura sobre *inferência de rejeitados* que está fora do escopo deste exercício.\n",
        "\n",
        "#### Bases disponíveis\n",
        "Temos duas bases importantes aqui: uma de propostas, com diversas informações dos vários solicitantes de cartão de crédito, e uma base de pagamentos. A base de pagamentos será utilizada para identificar a ocorrência de *default*. A base de propostas tem diversas informações coletadas no momento da solicitação do crédito (isto é importante: qualquer informação posterior a essa data é impossível de ser coletada na aplicação do modelo e não pode ser utilizada).\n",
        "\n",
        "As variáveis delas são:\n",
        "\n",
        "Base de propostas - application_records.csv\n",
        "\n",
        "| Nome da Variável         | Description                                         | Tipo  |\n",
        "| ------------------------ |:---------------------------------------------------:| -----:|\n",
        "| ID| identificador do cliente (chave) |inteiro|\n",
        "| CODE_GENDER| M = 'Masculino'; F = 'Feminino' |M/F|\n",
        "| FLAG_OWN_CAR| Y = 'possui'; N = 'não possui' |Y/N|\n",
        "| FLAG_OWN_REALTY| Y = 'possui'; N = 'não possui' |Y/N|\n",
        "| CNT_CHILDREN| Quantidade de filhos |inteiro|\n",
        "| AMT_INCOME_TOTAL| Annual income |inteiro|\n",
        "| NAME_INCOME_TYPE|Tipo de renda (ex: assaliariado, autônomo etc) | texto |\n",
        "| NAME_EDUCATION_TYPE| Nível de educação (ex: secundário, superior etc) |texto|\n",
        "| NAME_FAMILY_STATUS | Estado civil (ex: solteiro, casado etc)| texto |\n",
        "| NAME_HOUSING_TYPE | tipo de residência (ex: casa/apartamento, com os pais etc) | texto |\n",
        "| DAYS_BIRTH | Count backwards from current day (0), -1 means yesterday |inteiro|\n",
        "| DAYS_EMPLOYED | Count backwards from current day (0), -1 means yesterday |inteiro|\n",
        "| FLAG_MOBIL | Indica se possui celular (1 = sim, 0 = não) |binária|\n",
        "| FLAG_WORK_PHONE | Indica se possui telefone comercial (1 = sim, 0 = não) |binária|\n",
        "| FLAG_PHONE | Indica se possui telefone (1 = sim, 0 = não) |binária|\n",
        "| FLAG_EMAIL | Indica se possui e-mail (1 = sim, 0 = não) |binária|\n",
        "| OCCUPATION_TYPE | Occupation\t |Qualitativa|\n",
        "| CNT_FAM_MEMBERS | quantidade de pessoas na residência |inteiro|\n",
        "\n",
        "Base de pagamentos - pagamentos_largo.csv  \n",
        "\n",
        "| Nome da Variável         | Description                                         | Tipo  |\n",
        "| ------------------------ |:---------------------------------------------------:| -----:|\n",
        "| ID| identificador do cliente (chave) |inteiro|\n",
        "| mes_00 a mes_24| faixa de atraso mês a mês do cliente <br>0: 1-29 days past due &nbsp;&nbsp;&nbsp;&nbsp; 1: 30-59 days past due <br />2: 60-89 days overdue &nbsp;&nbsp;&nbsp;&nbsp; 3: 90-119 days overdue <br /> 4: 120-149 days overdue &nbsp;&nbsp;&nbsp;&nbsp; 5: more than 150 days <br />C: paid off that month &nbsp;&nbsp;&nbsp;&nbsp; X: No loan for the month |Qualitativa|\n",
        "\n",
        "#### Construindo a variável resposta\n",
        "A base de pagamentos está em um formato de 'base larga'. Essa base possui informações de pagamentos do cliente mês a mês a partir do mês de aquisição do crédito (mês 0) até o vigésimo quarto mês após a aquisição do crédito (mês 24). Utilizaremos essa base para determinar se um proponente é considerado 'bom pagador' ou caso apresente atraso representativo, será considerado 'mau pagador'.\n",
        "\n",
        "#### Base larga vs base longa\n",
        "A base ser larga significa que há uma linha para cada cliente, e que as informações estarão nas colunas, em contraste com a 'base longa', em que haveria uma linha para cada combinação cliente/mês, uma coluna indicando o cliente, outra indicando o mês, e apenas uma coluna com a informação do atraso.\n",
        "\n",
        "#### Tarefa 1) Marcar *default* no mês\n",
        "Faça uma indicadora de se o cliente está em *default* em cada uma das marcações (mes_00 a mes_24). Dica: você pode utilizar o método ```.isin()``` do Pandas. Consulte a [documentação](https://pandas.pydata.org/pandas-docs/stable/reference/api/pandas.DataFrame.isin.html) caso necessário.\n",
        "\n",
        "#### Tarefa 2) 'bons' e 'maus' ao longo de todos os 24 meses de desempenho\n",
        "Marque para cada cliente se ele teve pelo menos um episódio de *default* entre o mês 0 e o mês 24. Dica: o método ```sum()``` pode ajudar. Caso precise, consulte a [documentação](https://pandas.pydata.org/docs/reference/api/pandas.DataFrame.sum.html) e procure pelo argumento ```axis```, você viu outros métodos que possuem esse argumento também. Tendo o número de meses em default de cada cliente, basta marcar ```True``` para todos aqueles que possuem pelo menos 1 mês em *default* e ```False``` para os demais.\n",
        "\n",
        "#### Tarefa 3) Marcando proponentes expostos ao risco de crédito\n",
        "Marcando proponentes que se tornaram tomadores: lembre-se de que clientes que não adquiriram o cartão devem ser desconsiderados. A base de pagamentos possui apenas clientes que adquiriram cartão de crédito, então você pode selecionar somente os clientes da base de propostas que se encontram na base de pagamentos.\n",
        "\n",
        "#### Tarefa 4) Consolidando as informações\n",
        "Faça uma junção das informações da base de propostas com a variável de *default* que você acabou de construir. Talvez você consiga realizar a tarefa 3 e tarefa 4 em uma única linha de código ;)\n",
        "\n",
        "#### Tarefa 5) Verificando\n",
        "Faça uma contagem dos valores do *default* que você construiu."
      ]
    },
    {
      "cell_type": "code",
      "execution_count": 4,
      "metadata": {
        "id": "-t5nGNqS-9vx"
      },
      "outputs": [],
      "source": [
        "import pandas as pd\n",
        "\n",
        "# Carregar os dados\n",
        "propostas = pd.read_csv('application_record.csv')\n",
        "pagamentos = pd.read_csv('pagamentos_largo.csv')\n"
      ]
    },
    {
      "cell_type": "code",
      "execution_count": 5,
      "metadata": {
        "id": "l2YLDyX4-9v4"
      },
      "outputs": [],
      "source": [
        "#pg.head()"
      ]
    },
    {
      "cell_type": "code",
      "execution_count": 6,
      "metadata": {
        "colab": {
          "base_uri": "https://localhost:8080/"
        },
        "id": "kKgHVQ0L-9v9",
        "outputId": "6bfe5d73-647e-4b9e-c003-20d648fe22aa"
      },
      "outputs": [
        {
          "output_type": "stream",
          "name": "stdout",
          "text": [
            "Propostas:\n",
            "        ID CODE_GENDER FLAG_OWN_CAR FLAG_OWN_REALTY  CNT_CHILDREN  \\\n",
            "0  5008804           M            Y               Y             0   \n",
            "1  5008805           M            Y               Y             0   \n",
            "2  5008806           M            Y               Y             0   \n",
            "3  5008808           F            N               Y             0   \n",
            "4  5008809           F            N               Y             0   \n",
            "\n",
            "   AMT_INCOME_TOTAL      NAME_INCOME_TYPE            NAME_EDUCATION_TYPE  \\\n",
            "0          427500.0               Working               Higher education   \n",
            "1          427500.0               Working               Higher education   \n",
            "2          112500.0               Working  Secondary / secondary special   \n",
            "3          270000.0  Commercial associate  Secondary / secondary special   \n",
            "4          270000.0  Commercial associate  Secondary / secondary special   \n",
            "\n",
            "     NAME_FAMILY_STATUS  NAME_HOUSING_TYPE  DAYS_BIRTH  DAYS_EMPLOYED  \\\n",
            "0        Civil marriage   Rented apartment    -12005.0        -4542.0   \n",
            "1        Civil marriage   Rented apartment    -12005.0        -4542.0   \n",
            "2               Married  House / apartment    -21474.0        -1134.0   \n",
            "3  Single / not married  House / apartment    -19110.0        -3051.0   \n",
            "4  Single / not married  House / apartment    -19110.0        -3051.0   \n",
            "\n",
            "   FLAG_MOBIL  FLAG_WORK_PHONE  FLAG_PHONE  FLAG_EMAIL OCCUPATION_TYPE  \\\n",
            "0         1.0              1.0         0.0         0.0             NaN   \n",
            "1         1.0              1.0         0.0         0.0             NaN   \n",
            "2         1.0              0.0         0.0         0.0  Security staff   \n",
            "3         1.0              0.0         1.0         1.0     Sales staff   \n",
            "4         1.0              0.0         1.0         1.0     Sales staff   \n",
            "\n",
            "   CNT_FAM_MEMBERS  \n",
            "0              2.0  \n",
            "1              2.0  \n",
            "2              2.0  \n",
            "3              1.0  \n",
            "4              1.0  \n",
            "\n",
            "Pagamentos:\n",
            "        ID mes_0 mes_1 mes_10 mes_11 mes_12 mes_13 mes_14 mes_15 mes_16  ...  \\\n",
            "0  5001718     0     0      0      0      0      0      0      0    NaN  ...   \n",
            "1  5001719     0     0      C      C      C      C      C      C      C  ...   \n",
            "2  5001720     0     0      0      0      0      0      0      0      0  ...   \n",
            "3  5001723     0     0    NaN    NaN    NaN    NaN    NaN    NaN    NaN  ...   \n",
            "4  5001726     0     0      C      C      C      C      C      C      C  ...   \n",
            "\n",
            "  mes_22 mes_23 mes_24 mes_3 mes_4 mes_5 mes_6 mes_7 mes_8 mes_9  \n",
            "0    NaN      0    NaN     0     0     0     0   NaN     0   NaN  \n",
            "1      C      C      C     C     C     C     C     C     C     C  \n",
            "2      1      0      0     0     0     0     0     0     0     0  \n",
            "3    NaN    NaN    NaN     0     0     0     0     0   NaN   NaN  \n",
            "4      C      C      C     0     0     0     C     C     C     C  \n",
            "\n",
            "[5 rows x 26 columns]\n"
          ]
        }
      ],
      "source": [
        "# Visualizando para entender a estrutura dos dados\n",
        "print(\"Propostas:\")\n",
        "print(propostas.head())\n",
        "\n",
        "print(\"\\nPagamentos:\")\n",
        "print(pagamentos.head())\n"
      ]
    },
    {
      "cell_type": "code",
      "execution_count": 7,
      "metadata": {
        "id": "KGp9NAmc-9v9"
      },
      "outputs": [],
      "source": [
        "# Lista de colunas de mês\n",
        "colunas_meses = [col for col in pagamentos.columns if col.startswith('mes_')]\n",
        "\n",
        "# Marcar default (atraso >= 60 dias → valores 2, 3, 4, 5)\n",
        "pagamentos_default = pagamentos.copy()\n",
        "pagamentos_default[colunas_meses] = pagamentos[colunas_meses].isin(['2', '3', '4', '5'])\n"
      ]
    },
    {
      "cell_type": "code",
      "execution_count": 8,
      "metadata": {
        "id": "_7RMfsF5-9v-"
      },
      "outputs": [],
      "source": [
        "# Lista de colunas de mês\n",
        "colunas_meses = [col for col in pagamentos.columns if col.startswith('mes_')]\n",
        "\n",
        "# Marcar default (atraso >= 60 dias → valores 2, 3, 4, 5)\n",
        "pagamentos_default = pagamentos.copy()\n",
        "pagamentos_default[colunas_meses] = pagamentos[colunas_meses].isin(['2', '3', '4', '5'])\n"
      ]
    },
    {
      "cell_type": "code",
      "execution_count": 9,
      "metadata": {
        "id": "2gbr0RO0-9v_"
      },
      "outputs": [],
      "source": [
        "# Criar coluna 'default' indicando se houve pelo menos 1 mês em default\n",
        "pagamentos_default['default'] = pagamentos_default[colunas_meses].sum(axis=1) > 0\n"
      ]
    },
    {
      "cell_type": "code",
      "source": [
        "# Selecionar apenas IDs presentes nas duas bases\n",
        "propostas_filtradas = propostas[propostas['ID'].isin(pagamentos_default['ID'])]\n"
      ],
      "metadata": {
        "id": "nhFc01tT__A2"
      },
      "execution_count": 10,
      "outputs": []
    },
    {
      "cell_type": "code",
      "source": [
        "# Junção das duas bases com a variável 'default'\n",
        "base_final = propostas_filtradas.merge(pagamentos_default[['ID', 'default']], on='ID', how='left')\n"
      ],
      "metadata": {
        "id": "OV7UlDdbAA0K"
      },
      "execution_count": 11,
      "outputs": []
    },
    {
      "cell_type": "code",
      "source": [
        "# Contagem dos bons e maus pagadores\n",
        "print(base_final['default'].value_counts())\n"
      ],
      "metadata": {
        "colab": {
          "base_uri": "https://localhost:8080/"
        },
        "id": "6Ngs-2AYADcu",
        "outputId": "ae65a95a-64af-4657-8a13-d48350e89fce"
      },
      "execution_count": 12,
      "outputs": [
        {
          "output_type": "stream",
          "name": "stdout",
          "text": [
            "default\n",
            "False    16260\n",
            "True       211\n",
            "Name: count, dtype: int64\n"
          ]
        }
      ]
    }
  ],
  "metadata": {
    "kernelspec": {
      "display_name": "Python 3",
      "language": "python",
      "name": "python3"
    },
    "language_info": {
      "codemirror_mode": {
        "name": "ipython",
        "version": 3
      },
      "file_extension": ".py",
      "mimetype": "text/x-python",
      "name": "python",
      "nbconvert_exporter": "python",
      "pygments_lexer": "ipython3",
      "version": "3.8.5"
    },
    "colab": {
      "provenance": []
    }
  },
  "nbformat": 4,
  "nbformat_minor": 0
}