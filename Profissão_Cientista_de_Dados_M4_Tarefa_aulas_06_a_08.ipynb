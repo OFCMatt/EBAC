{
  "cells": [
    {
      "cell_type": "markdown",
      "metadata": {
        "id": "view-in-github",
        "colab_type": "text"
      },
      "source": [
        "<a href=\"https://colab.research.google.com/github/OFCMatt/EBAC/blob/main/Profiss%C3%A3o_Cientista_de_Dados_M4_Tarefa_aulas_06_a_08.ipynb\" target=\"_parent\"><img src=\"https://colab.research.google.com/assets/colab-badge.svg\" alt=\"Open In Colab\"/></a>"
      ]
    },
    {
      "cell_type": "markdown",
      "metadata": {
        "id": "jmq-7D3_78m0"
      },
      "source": [
        "# Tarefa 03\n",
        "\n",
        "- Leia os enunciados com atenção\n",
        "- Saiba que pode haver mais de uma resposta correta\n",
        "- Insira novas células de código sempre que achar necessário\n",
        "- Em caso de dúvidas, procure os Tutores\n",
        "- Divirta-se :)"
      ]
    },
    {
      "cell_type": "code",
      "execution_count": 1,
      "metadata": {
        "id": "I-m3QBYw78m3"
      },
      "outputs": [],
      "source": [
        "import pandas as pd\n",
        "import requests"
      ]
    },
    {
      "cell_type": "markdown",
      "metadata": {
        "id": "1ZZZGRj478m5"
      },
      "source": [
        "####  1) Lendo de APIs\n",
        "Vimos em aula como carregar dados públicos do governo através de um API (*Application Programming Interface*). No exemplo de aula, baixamos os dados de pedidos de verificação de limites (PVL) realizados por estados, e selecionamos apenas aqueles referentes ao estado de São Paulo.\n",
        "\n",
        "1. Repita os mesmos passos feitos em aula, mas selecione os PVLs realizados por municípios no estado do Rio de Janeiro.\n",
        "2. Quais são os três *status* das solicitações mais frequentes na base? Quais são suas frequências?\n",
        "3. Construa uma nova variável que contenha o ano do **status**. Observe que ```data_status``` vem como tipo *object* no **DataFrame**. Dica: você pode usar o método ```.str``` para transformar o tipo da variável em string, em seguida um método como [**slice()**](https://pandas.pydata.org/docs/reference/api/pandas.Series.str.slice.html) ou [**split()**](https://pandas.pydata.org/pandas-docs/stable/reference/api/pandas.Series.str.split.html).\n",
        "4. Indique a frequência de cada ano do campo construído no item (3)."
      ]
    },
    {
      "cell_type": "code",
      "execution_count": 2,
      "metadata": {
        "id": "L8mw_JAt78m6"
      },
      "outputs": [],
      "source": [
        "# 1) Consultar a API para municípios do RJ\n",
        "url = \"https://apidatalake.tesouro.gov.br/ords/sadipem/tt/pvl\"\n",
        "params = {\n",
        "    \"uf\": \"RJ\",\n",
        "    \"interessado\": \"Município\"\n",
        "}\n",
        "response = requests.get(url, params=params)\n",
        "dados = pd.DataFrame(response.json()['items'])"
      ]
    },
    {
      "cell_type": "code",
      "execution_count": 3,
      "metadata": {
        "colab": {
          "base_uri": "https://localhost:8080/"
        },
        "id": "coMnmB-878m7",
        "outputId": "a7d9237f-12c8-41ec-b99c-833853f18d26"
      },
      "outputs": [
        {
          "output_type": "stream",
          "name": "stdout",
          "text": [
            "Top 3 status mais frequentes:\n",
            "status\n",
            "Deferido                                                 120\n",
            "Arquivado                                                 53\n",
            "Encaminhado à PGFN com manifestação técnica favorável     50\n",
            "Name: count, dtype: int64\n"
          ]
        }
      ],
      "source": [
        "# 2) Ver os 3 status mais frequentes\n",
        "status_freq = dados['status'].value_counts().head(3)\n",
        "print(\"Top 3 status mais frequentes:\")\n",
        "print(status_freq)"
      ]
    },
    {
      "cell_type": "code",
      "execution_count": 4,
      "metadata": {
        "id": "SKzC35er78m8"
      },
      "outputs": [],
      "source": [
        "# 3) Criar coluna com o ano do status\n",
        "dados['ano_status'] = dados['data_status'].str.slice(0, 4)"
      ]
    },
    {
      "cell_type": "code",
      "source": [
        "# 4) Frequência de cada ano\n",
        "frequencia_anos = dados['ano_status'].value_counts()\n",
        "print(\"Frequência por ano do status:\")\n",
        "print(frequencia_anos)"
      ],
      "metadata": {
        "colab": {
          "base_uri": "https://localhost:8080/"
        },
        "id": "HbJWp_EgAQfB",
        "outputId": "879ce16e-b5d4-4aa9-a4b6-a85d98574771"
      },
      "execution_count": 5,
      "outputs": [
        {
          "output_type": "stream",
          "name": "stdout",
          "text": [
            "Frequência por ano do status:\n",
            "ano_status\n",
            "13/0    16\n",
            "28/0    16\n",
            "06/0    15\n",
            "29/0    14\n",
            "27/0    13\n",
            "15/0    13\n",
            "26/0    12\n",
            "22/0    10\n",
            "04/0    10\n",
            "30/1    10\n",
            "12/0    10\n",
            "30/0     9\n",
            "18/0     9\n",
            "10/0     9\n",
            "25/0     9\n",
            "11/0     8\n",
            "02/0     7\n",
            "20/0     7\n",
            "01/0     7\n",
            "04/1     6\n",
            "14/0     6\n",
            "03/0     6\n",
            "21/0     6\n",
            "23/0     5\n",
            "17/0     5\n",
            "23/1     5\n",
            "21/1     5\n",
            "07/0     5\n",
            "09/0     5\n",
            "10/1     4\n",
            "01/1     4\n",
            "31/0     4\n",
            "28/1     4\n",
            "24/0     4\n",
            "05/0     3\n",
            "17/1     3\n",
            "19/1     3\n",
            "19/0     3\n",
            "27/1     3\n",
            "22/1     3\n",
            "06/1     2\n",
            "13/1     2\n",
            "08/0     2\n",
            "20/1     2\n",
            "18/1     2\n",
            "02/1     2\n",
            "16/0     2\n",
            "09/1     2\n",
            "25/1     2\n",
            "31/1     1\n",
            "07/1     1\n",
            "29/1     1\n",
            "14/1     1\n",
            "15/1     1\n",
            "24/1     1\n",
            "26/1     1\n",
            "08/1     1\n",
            "11/1     1\n",
            "12/1     1\n",
            "05/1     1\n",
            "Name: count, dtype: int64\n"
          ]
        }
      ]
    },
    {
      "cell_type": "markdown",
      "metadata": {
        "id": "KmLKfjL978m8"
      },
      "source": [
        "####  2) Melhorando a interação com o API\n",
        "Observe dois URLs de consultas diferentes, por exemplo o URL utilizado em aula, e o URL feito no exercício anterior. Compare-os e observe as diferenças.\n",
        "\n",
        "1. Faça uma função em Python que recebe como argumento o UF da consulta e o tipo de interessado (```'Estado'```ou ```Município```), e que devolve os dados da consulta no formato *DataFrame*.\n",
        "2. Quantas solicitações para o Estado podem ser consultadas para Minas Gerais com *status* em 'Arquivado por decurso de prazo' estão registradas?\n",
        "3. Qual é o município da Bahia com mais solicitações deferidas?\n",
        "4. Salve um arquivo .csv com os dados de solicitações da Bahia, com interessado = 'Estado'"
      ]
    },
    {
      "cell_type": "code",
      "execution_count": 6,
      "metadata": {
        "id": "kZytkV6u78m9"
      },
      "outputs": [],
      "source": [
        "def consulta_pvl(uf, interessado):\n",
        "    url = \"https://apidatalake.tesouro.gov.br/ords/sadipem/tt/pvl\"\n",
        "    params = {\n",
        "        \"uf\": uf,\n",
        "        \"interessado\": interessado\n",
        "    }\n",
        "    response = requests.get(url, params=params)\n",
        "    dados = pd.DataFrame(response.json()['items'])\n",
        "    return dados\n"
      ]
    },
    {
      "cell_type": "code",
      "execution_count": 7,
      "metadata": {
        "colab": {
          "base_uri": "https://localhost:8080/"
        },
        "id": "3FVvm7kO78m9",
        "outputId": "524befb3-3a4f-433d-e858-18afe97025dd"
      },
      "outputs": [
        {
          "output_type": "stream",
          "name": "stdout",
          "text": [
            "Quantidade de solicitações arquivadas por decurso de prazo em MG: 306\n"
          ]
        }
      ],
      "source": [
        "# Consultar dados de MG com interessado = Estado\n",
        "mg_estado = consulta_pvl(\"MG\", \"Estado\")\n",
        "\n",
        "# Filtrar por status\n",
        "arquivados = mg_estado[mg_estado[\"status\"] == \"Arquivado por decurso de prazo\"]\n",
        "print(\"Quantidade de solicitações arquivadas por decurso de prazo em MG:\", len(arquivados))\n"
      ]
    },
    {
      "cell_type": "code",
      "execution_count": 8,
      "metadata": {
        "colab": {
          "base_uri": "https://localhost:8080/"
        },
        "id": "5KrKPZeH78m-",
        "outputId": "4626a683-2c45-4255-d2e1-694d93e44e2d"
      },
      "outputs": [
        {
          "output_type": "stream",
          "name": "stdout",
          "text": [
            "Município da BA com mais deferimentos: Bahia (50 solicitações)\n"
          ]
        }
      ],
      "source": [
        "# Consultar dados de municípios da BA\n",
        "ba_municipios = consulta_pvl(\"BA\", \"Município\")\n",
        "\n",
        "# Filtrar apenas os deferidos\n",
        "deferidos = ba_municipios[ba_municipios[\"status\"] == \"Deferido\"]\n",
        "\n",
        "# Contar por município\n",
        "mais_deferido = deferidos[\"interessado\"].value_counts().idxmax()\n",
        "qtd_deferido = deferidos[\"interessado\"].value_counts().max()\n",
        "\n",
        "print(f\"Município da BA com mais deferimentos: {mais_deferido} ({qtd_deferido} solicitações)\")\n"
      ]
    },
    {
      "cell_type": "code",
      "execution_count": 9,
      "metadata": {
        "colab": {
          "base_uri": "https://localhost:8080/"
        },
        "id": "JhXGi_YK78m_",
        "outputId": "5851048b-5c4c-42da-87ad-d6d45a22e74a"
      },
      "outputs": [
        {
          "output_type": "stream",
          "name": "stdout",
          "text": [
            "Arquivo salvo: solicitacoes_bahia_estado.csv\n"
          ]
        }
      ],
      "source": [
        "# Consultar dados da Bahia - Estado\n",
        "ba_estado = consulta_pvl(\"BA\", \"Estado\")\n",
        "\n",
        "# Salvar em CSV\n",
        "ba_estado.to_csv(\"solicitacoes_bahia_estado.csv\", index=False, encoding='utf-8')\n",
        "print(\"Arquivo salvo: solicitacoes_bahia_estado.csv\")\n"
      ]
    }
  ],
  "metadata": {
    "kernelspec": {
      "display_name": "Python 3",
      "language": "python",
      "name": "python3"
    },
    "language_info": {
      "codemirror_mode": {
        "name": "ipython",
        "version": 3
      },
      "file_extension": ".py",
      "mimetype": "text/x-python",
      "name": "python",
      "nbconvert_exporter": "python",
      "pygments_lexer": "ipython3",
      "version": "3.8.5"
    },
    "colab": {
      "provenance": [],
      "include_colab_link": true
    }
  },
  "nbformat": 4,
  "nbformat_minor": 0
}