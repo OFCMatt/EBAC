{
  "cells": [
    {
      "cell_type": "code",
      "execution_count": 5,
      "metadata": {
        "id": "fFhFteHV695k"
      },
      "outputs": [],
      "source": [
        "import numpy as np"
      ]
    },
    {
      "cell_type": "markdown",
      "metadata": {
        "id": "YLWEzg3N695m"
      },
      "source": [
        "### 1) Alturas  \n",
        "i. No trecho de código abaixo, crie um ndarray chamado ```altura_em_centimetros``` transformando a lista ```lista_de_alturas``` em um ndarray do numpy com a função ```np.array()```  \n",
        "ii. Crie um outro objeto ```altura_em_metros```, com os valores de ```altura_em_centimetros``` convertidos para metros."
      ]
    },
    {
      "cell_type": "code",
      "execution_count": 6,
      "metadata": {
        "id": "tx6DbJk7695o",
        "colab": {
          "base_uri": "https://localhost:8080/"
        },
        "outputId": "5db98bf3-7584-4a37-95f8-215e36ce6c9e"
      },
      "outputs": [
        {
          "output_type": "execute_result",
          "data": {
            "text/plain": [
              "[170, 175, 180, 185]"
            ]
          },
          "metadata": {},
          "execution_count": 6
        }
      ],
      "source": [
        "lista_de_centimetros = list(range(170, 190, 5))\n",
        "lista_de_centimetros"
      ]
    },
    {
      "cell_type": "code",
      "execution_count": 7,
      "metadata": {
        "id": "-tXC4lyT695o"
      },
      "outputs": [],
      "source": [
        "altura_em_centimetros = np.array(lista_de_centimetros)"
      ]
    },
    {
      "cell_type": "code",
      "execution_count": 10,
      "metadata": {
        "id": "zFDQt9_K695p"
      },
      "outputs": [],
      "source": [
        "altura_em_metros = altura_em_centimetros / 100"
      ]
    },
    {
      "cell_type": "code",
      "source": [
        "# Exibir os resultados\n",
        "print(\"Altura em centímetros:\", altura_em_centimetros)\n",
        "print(\"Altura em metros:\", altura_em_metros)"
      ],
      "metadata": {
        "colab": {
          "base_uri": "https://localhost:8080/"
        },
        "id": "6hcxZ8AlhnK5",
        "outputId": "a69470ab-9bc3-4f0c-c7ff-da81666101fb"
      },
      "execution_count": 16,
      "outputs": [
        {
          "output_type": "stream",
          "name": "stdout",
          "text": [
            "Altura em centímetros: [170 175 180 185]\n",
            "Altura em metros: [1.7  1.75 1.8  1.85]\n"
          ]
        }
      ]
    },
    {
      "cell_type": "markdown",
      "metadata": {
        "id": "hlsDzubv695p"
      },
      "source": [
        "### 2) IMC  \n",
        "i. Considere que pesos em Kg dessas pessoas, na mesma ortem, estão na lista pesos ```lista_pesos = [70, 75, 80, 85]```. Crie um **ndarray** chamado ```pesos``` com a função ```np.array()``` que contenha esses valores.  \n",
        "ii. Utilizando o objeto que contém as alturas em metros e esse objeto que contém os respectivos pesos em quilos, calcule o IMC desses indivíduos utilizando a aritmética de arrays e guarde os resultados em um objeto chamado ```imc```."
      ]
    },
    {
      "cell_type": "code",
      "source": [
        "lista_pesos = [70, 75, 80, 85]\n",
        "lista_pesos"
      ],
      "metadata": {
        "colab": {
          "base_uri": "https://localhost:8080/"
        },
        "id": "FaK1O9NbiJUl",
        "outputId": "67c97c84-e839-4f94-cd32-c5f9abfc83ba"
      },
      "execution_count": 12,
      "outputs": [
        {
          "output_type": "execute_result",
          "data": {
            "text/plain": [
              "[70, 75, 80, 85]"
            ]
          },
          "metadata": {},
          "execution_count": 12
        }
      ]
    },
    {
      "cell_type": "code",
      "execution_count": 13,
      "metadata": {
        "id": "YL87C0It695p"
      },
      "outputs": [],
      "source": [
        "pesos = np.array(lista_pesos)"
      ]
    },
    {
      "cell_type": "code",
      "execution_count": 14,
      "metadata": {
        "id": "WgZtY2Ox695q"
      },
      "outputs": [],
      "source": [
        "imc = pesos / altura_em_metros**2"
      ]
    },
    {
      "cell_type": "code",
      "source": [
        "# Exibir os resultados\n",
        "print(\"Pesos (kg):\", pesos)\n",
        "print(\"Alturas (m):\", altura_em_metros)\n",
        "print(\"IMC:\", imc)"
      ],
      "metadata": {
        "colab": {
          "base_uri": "https://localhost:8080/"
        },
        "id": "RAB8IciXiV6Q",
        "outputId": "7efdb45a-452f-4c86-a21e-0d83588ff2f1"
      },
      "execution_count": 15,
      "outputs": [
        {
          "output_type": "stream",
          "name": "stdout",
          "text": [
            "Pesos (kg): [70 75 80 85]\n",
            "Alturas (m): [1.7  1.75 1.8  1.85]\n",
            "IMC: [24.22145329 24.48979592 24.69135802 24.83564646]\n"
          ]
        }
      ]
    },
    {
      "cell_type": "markdown",
      "metadata": {
        "id": "k1JIBxZb695r"
      },
      "source": [
        "### 3) Endividamento\n",
        "\n",
        "Cálculos de novas variáveis como endividamento total e comprometimento de renda são essenciais para a construção de modelos financeiros em ciência de dados. Áreas não financeiras terão cálculos semelhantes também. Vamos praticar:\n",
        "\n",
        "Considere que o seguinte ndarray contém os dados de 4 pessoas, total a ser pago a empréstimos mensalmente e renda familiar:\n",
        "\n",
        "| custo fixo | dívida financeira | renda familiar |\n",
        "|:----:|:----:|:---|\n",
        "| 3000  | 1000 | 6000 |\n",
        "| 2500  | 2500 | 5500 |\n",
        "| 1000  | 3000 | 7000 |\n",
        "| 10000 | 5000 | 16000 |\n",
        "\n",
        "i. Transforme a lista de listas ```dados_financeiros``` no ndarray ```nd_financeiros```.\n",
        "> ``` dados_financeiros[[3000, 2500, 1000, 10000],[1000, 2500, 3000, 5000],[6000, 5500, 7000, 16000]] ```\n",
        "\n",
        "ii. Utilize o método ```.transpose ``` e certifique-se de que esse ndarray tenha uma linha por indivíduo e uma coluna por informação. Utilizando a indexação do numpy, imprima no output a segunda linha do array, depois a segunda coluna.\n",
        "\n",
        "iii. Pratique aritmética com nearrays e calcule o endividamento total como:\n",
        "$$endividamento\\hspace{.2cm}total = \\frac{custo \\hspace{.2cm}fixo + dívida\\hspace{.2cm}financeira}{renda\\hspace{.2cm}familiar}$$\n",
        "Guarde os resultados em uma variável chamada ```endividamento_total``` e verifique os resultados imprimindo o conteúdo dessa variável no output.\n",
        "\n",
        "iv. Considere que há um erro de digitação que precisa ser corrigido: 3o indivíduo na verdade não possui renda familiar de R\\\\$7.000,00, mas sim R\\\\$ 10.000,00. Corrija esse valor e refaça os cálculos."
      ]
    },
    {
      "cell_type": "code",
      "execution_count": 18,
      "metadata": {
        "id": "k17jw6kT695r",
        "colab": {
          "base_uri": "https://localhost:8080/"
        },
        "outputId": "b69af615-a15b-41de-b4ce-cf6bccb09852"
      },
      "outputs": [
        {
          "output_type": "execute_result",
          "data": {
            "text/plain": [
              "[[3000, 2500, 1000, 10000],\n",
              " [1000, 2500, 3000, 5000],\n",
              " [6000, 5500, 7000, 16000]]"
            ]
          },
          "metadata": {},
          "execution_count": 18
        }
      ],
      "source": [
        "dados_financeiros = [[3000, 2500, 1000, 10000],  # custo fixo\n",
        "                     [1000, 2500, 3000, 5000],   # dívida financeira\n",
        "                     [6000, 5500, 7000, 16000]]  # renda familiar\n",
        "dados_financeiros"
      ]
    },
    {
      "cell_type": "code",
      "source": [
        "nd_financeiros = np.array(dados_financeiros)"
      ],
      "metadata": {
        "id": "VmcxvDGjir-x"
      },
      "execution_count": 19,
      "outputs": []
    },
    {
      "cell_type": "code",
      "execution_count": 20,
      "metadata": {
        "id": "ecRsPjml695r"
      },
      "outputs": [],
      "source": [
        "nd_financeiros_transposto = nd_financeiros.transpose()"
      ]
    },
    {
      "cell_type": "code",
      "source": [
        "# Exibir a segunda linha (índice 1) e a segunda coluna (índice 1)\n",
        "print(\"Segunda linha do array:\", nd_financeiros_transposto[1])  # Segunda linha\n",
        "print(\"Segunda coluna do array:\", nd_financeiros_transposto[:, 1])  # Segunda coluna"
      ],
      "metadata": {
        "colab": {
          "base_uri": "https://localhost:8080/"
        },
        "id": "3-C0ZsDai6ii",
        "outputId": "9c56e068-3f09-46e2-ec42-c4b9d189a5ad"
      },
      "execution_count": 21,
      "outputs": [
        {
          "output_type": "stream",
          "name": "stdout",
          "text": [
            "Segunda linha do array: [2500 2500 5500]\n",
            "Segunda coluna do array: [1000 2500 3000 5000]\n"
          ]
        }
      ]
    },
    {
      "cell_type": "code",
      "execution_count": 22,
      "metadata": {
        "id": "RgMG-t9-695s"
      },
      "outputs": [],
      "source": [
        "# iii) Calcular o endividamento total\n",
        "# Fórmula: endividamento_total = (custo_fixo + dívida_financeira) / renda_familiar\n",
        "endividamento_total = (nd_financeiros_transposto[:, 0] + nd_financeiros_transposto[:, 1]) / nd_financeiros_transposto[:, 2]\n"
      ]
    },
    {
      "cell_type": "code",
      "source": [
        "# Exibir o endividamento total\n",
        "print(\"Endividamento Total:\", endividamento_total)"
      ],
      "metadata": {
        "colab": {
          "base_uri": "https://localhost:8080/"
        },
        "id": "14I8fDCdjQ9Y",
        "outputId": "21fbdf3b-e2cd-434b-91ac-247eff6d5190"
      },
      "execution_count": 23,
      "outputs": [
        {
          "output_type": "stream",
          "name": "stdout",
          "text": [
            "Endividamento Total: [0.66666667 0.90909091 0.57142857 0.9375    ]\n"
          ]
        }
      ]
    },
    {
      "cell_type": "code",
      "execution_count": 24,
      "metadata": {
        "id": "FxaSHRgy695t"
      },
      "outputs": [],
      "source": [
        "# iv) Corrigir o valor de renda para o 3º indivíduo (index 2)\n",
        "nd_financeiros_transposto[2, 2] = 10000  # Corrigindo a renda do 3º indivíduo\n"
      ]
    },
    {
      "cell_type": "code",
      "execution_count": 25,
      "metadata": {
        "id": "OYxfd00O695t"
      },
      "outputs": [],
      "source": [
        "# Recalcular o endividamento total após a correção\n",
        "endividamento_total_corrigido = (nd_financeiros_transposto[:, 0] + nd_financeiros_transposto[:, 1]) / nd_financeiros_transposto[:, 2]\n"
      ]
    },
    {
      "cell_type": "code",
      "source": [
        "# Exibir o endividamento total corrigido\n",
        "print(\"Endividamento Total Corrigido:\", endividamento_total_corrigido)"
      ],
      "metadata": {
        "colab": {
          "base_uri": "https://localhost:8080/"
        },
        "id": "demsktKtjYFQ",
        "outputId": "e0e5f087-3afb-44ea-9bf6-3ad9fe61b004"
      },
      "execution_count": 26,
      "outputs": [
        {
          "output_type": "stream",
          "name": "stdout",
          "text": [
            "Endividamento Total Corrigido: [0.66666667 0.90909091 0.4        0.9375    ]\n"
          ]
        }
      ]
    },
    {
      "cell_type": "markdown",
      "metadata": {
        "id": "RghMgSOX695t"
      },
      "source": [
        "### 4) É muito comum precisarmos identificar valores especiais e darmos tratamento a eles quer seja alterando-os quer seja descartando-os.\n",
        "\n",
        "O trecho de código abaixo gera um ndarray com números pseudo aleatórios. Considere que para efeitos do estudo que virá, devemos desconsiderar valores iguais a zero. Sendo assim:\n",
        "\n",
        "i) crie um objeto ```bool_zero``` que traga uma sequencia de booleanos do mesmo tamanho que o objeto poi, e que vale ```True``` quando o valor de ```poi``` é zero, e ```False``` caso contrário.\n",
        "\n",
        "ii) Conte quantos valores zero existem. Lembre-se de que no final das contas, ```True``` vale 1 para o Python, e ```False``` vale zero, então uma boa dica seria usar a função ```sum()```.\n",
        "\n",
        "iii) Utilize a indexação booleana que você aprendeu para criar uma variável ```poi_nao_zero``` que aponta para os elementos de ```poi``` diferentes de zero. Dica: você vai pode inverter os elementos do objeto que criou em *ii)* ou escrever a comparação adequada."
      ]
    },
    {
      "cell_type": "code",
      "execution_count": 27,
      "metadata": {
        "id": "Y6JUhNiT695t",
        "outputId": "3db65a2d-1285-45d6-87ad-191cfdae2396",
        "colab": {
          "base_uri": "https://localhost:8080/"
        }
      },
      "outputs": [
        {
          "output_type": "execute_result",
          "data": {
            "text/plain": [
              "array([3, 3, 6, 2, 4, 5, 4, 4, 2, 0, 3, 3, 2, 8, 2, 3, 3, 3, 0, 4, 4, 2,\n",
              "       6, 6, 0, 3, 4, 3, 5, 2, 1, 3, 2, 2, 3, 2, 4, 4, 5, 7, 3, 5, 3, 3,\n",
              "       2, 2, 3, 6, 2, 2, 4, 3, 5, 2, 5, 3, 0, 2, 1, 1, 4, 4, 4, 6, 2, 4,\n",
              "       1, 2, 5, 5, 3, 4, 1, 4, 1, 1, 7, 1, 2, 1, 3, 7, 0, 4, 4, 0, 6, 1,\n",
              "       3, 4, 2, 5, 4, 5, 5, 3, 4, 6, 8, 2])"
            ]
          },
          "metadata": {},
          "execution_count": 27
        }
      ],
      "source": [
        "# Gerar o objeto poi com números aleatórios\n",
        "np.random.seed(1234)\n",
        "poi = np.random.poisson(3, 100)\n",
        "poi"
      ]
    },
    {
      "cell_type": "code",
      "execution_count": 29,
      "metadata": {
        "id": "dWElD2MJ695u"
      },
      "outputs": [],
      "source": [
        "bool_zero = poi == 0"
      ]
    },
    {
      "cell_type": "code",
      "execution_count": 30,
      "metadata": {
        "id": "hr-knXzs695u"
      },
      "outputs": [],
      "source": [
        "quantidade_zeros = np.sum(bool_zero)"
      ]
    },
    {
      "cell_type": "code",
      "execution_count": 31,
      "metadata": {
        "id": "5s3DqCup695u"
      },
      "outputs": [],
      "source": [
        "poi_nao_zero = poi[~bool_zero]"
      ]
    },
    {
      "cell_type": "code",
      "source": [
        "# Exibir os resultados\n",
        "print(\"Objeto bool_zero:\", bool_zero)\n",
        "print(\"Quantidade de zeros:\", quantidade_zeros)\n",
        "print(\"Valores de poi diferentes de zero:\", poi_nao_zero)"
      ],
      "metadata": {
        "colab": {
          "base_uri": "https://localhost:8080/"
        },
        "id": "6F0OHwTAj7HO",
        "outputId": "08ec85ff-0cf0-48aa-b263-f2ce50ef6209"
      },
      "execution_count": 32,
      "outputs": [
        {
          "output_type": "stream",
          "name": "stdout",
          "text": [
            "Objeto bool_zero: [False False False False False False False False False  True False False\n",
            " False False False False False False  True False False False False False\n",
            "  True False False False False False False False False False False False\n",
            " False False False False False False False False False False False False\n",
            " False False False False False False False False  True False False False\n",
            " False False False False False False False False False False False False\n",
            " False False False False False False False False False False  True False\n",
            " False  True False False False False False False False False False False\n",
            " False False False False]\n",
            "Quantidade de zeros: 6\n",
            "Valores de poi diferentes de zero: [3 3 6 2 4 5 4 4 2 3 3 2 8 2 3 3 3 4 4 2 6 6 3 4 3 5 2 1 3 2 2 3 2 4 4 5 7\n",
            " 3 5 3 3 2 2 3 6 2 2 4 3 5 2 5 3 2 1 1 4 4 4 6 2 4 1 2 5 5 3 4 1 4 1 1 7 1\n",
            " 2 1 3 7 4 4 6 1 3 4 2 5 4 5 5 3 4 6 8 2]\n"
          ]
        }
      ]
    }
  ],
  "metadata": {
    "kernelspec": {
      "display_name": "Python 3",
      "language": "python",
      "name": "python3"
    },
    "language_info": {
      "codemirror_mode": {
        "name": "ipython",
        "version": 3
      },
      "file_extension": ".py",
      "mimetype": "text/x-python",
      "name": "python",
      "nbconvert_exporter": "python",
      "pygments_lexer": "ipython3",
      "version": "3.8.5"
    },
    "colab": {
      "provenance": []
    }
  },
  "nbformat": 4,
  "nbformat_minor": 0
}